{
    "cells": [
        {
            "cell_type": "markdown",
            "metadata": {
                "collapsed": true
            },
            "source": "# The Battle of Neighborhoods"
        },
        {
            "cell_type": "markdown",
            "metadata": {},
            "source": "### Introduction / Business Problem definition"
        },
        {
            "cell_type": "markdown",
            "metadata": {},
            "source": "In the US, one dense area is known to be highly different from the rest of the country in terms of innovation. The San Francisco Bay Area is indeed the most innovative place in the world, gathering more than 50% of all VC funds in the world, in a single, small region. \nThe most important and famous parts of the Bay area include cities like San Francisco, Berkeley, San Jose, Palo Alto ... but the region is not limited to these territories and also include smaller cities a few kilometers away from the center of the Bay Area. \n\nMost of the highly successful tech companies were launched in this area and the highest paying jobs are located in that particular area. The San Francisco Bay Area is also well known for its diversity. In the area, it is often said that one is not from San Francisco if he lived there for more than a couple of years. \n\nBased on these few observations, we noticed an important problem that was created in the Bay Area: because of the average salary and the quality of life in this area, housing prices are completely disproportionate and for a new comer in the area, it can be a crazy riddle to solve when it comes to finding a place to live. \n\nIn this analysis, I will get to know more about the Bay Area, all its locations and its main venues. Based on that, we will try to identify areas that can be similar (or not) to the city center of San Francisco, so that a new comer can easily identify where would be the best place for him to live in based on his preferences and salary. Throughout this analysis, we will try to understand why is Silicon Valley so different from the rest of the world and the rest of the Bay Area / California."
        },
        {
            "cell_type": "markdown",
            "metadata": {},
            "source": "### Data"
        },
        {
            "cell_type": "markdown",
            "metadata": {},
            "source": "#### Data Sources"
        },
        {
            "cell_type": "markdown",
            "metadata": {},
            "source": "In order to achieve this analysis, I will need three types of information : \n- Information regarding the cities in The Bay Area, their postal codes, their associated coordinates (latitude and longitude). This information should be easily found on governmental websites : https://catalog.data.gov/dataset/bay-area-zip-codes/resource/6cacd1a1-6bff-4c7c-9094-49188ea29f85\n- Associated venue to each of the different cities and neighborhoods, using Foursquare and its API.\n- The San Francisco JSON file which provides a list of all Bay Area Boroughs, Neighborhoods, and their coordinates (latitude and longitude), if we cannot find it using the governmental websites information"
        },
        {
            "cell_type": "markdown",
            "metadata": {},
            "source": "### Methodology "
        },
        {
            "cell_type": "markdown",
            "metadata": {},
            "source": "Methodology section which represents the main component of the report where you discuss and describe any exploratory data analysis that you did, any inferential statistical testing that you performed, if any, and what machine learnings were used and why.\n\nOur methodology will be divided in different parts : \n1. Import packages and tools: In this section, we will import all tools and packages that we will require throughout the analysis. Those include but is not limited to: CSV, PD, NP, REQUESTS, KMEANS, JSON, GEOCODER, MATPLOTLIB, GEOCODER, FOLIUM, etc.\n2. Data cleaning : Using the governmental website link that we found, let's import the CSV / HTML format in order to put it into a pandas dataframe. Once the required data is put into a pandas dataframe, we will be required to delete all the unecessary rows and columns, rename columns, add BLANK columns for latitude & longitude... The objective would be to have a table with columns for Neighborhood, ZIP code, Latitude and Longitude \n3. Use Geopy library: With Geopy library, we will be able to associate Coordinates (Latitude & Longitude) to the ZIP code. \n4. Use the FourSquare API: With Foursquare credentials, import all venues associated to the different locations. \n5. Once all the data is being collected and associated in one grouped table, run the Kmeans Machine Learning algorithm in order to determine what are the main clusters. Iterate based on the number of clusters required to get a good understanding of the data"
        },
        {
            "cell_type": "markdown",
            "metadata": {},
            "source": "#### Import & Data Cleaning"
        },
        {
            "cell_type": "markdown",
            "metadata": {},
            "source": "First let's import some key tools that will be useful throughout our analysis, these include but is not limited to numpy, pandas, jason ... "
        },
        {
            "cell_type": "code",
            "execution_count": 14,
            "metadata": {
                "scrolled": true
            },
            "outputs": [
                {
                    "name": "stdout",
                    "output_type": "stream",
                    "text": "Requirement already satisfied: geocoder in /opt/conda/envs/Python-3.7-main/lib/python3.7/site-packages (1.38.1)\nRequirement already satisfied: click in /opt/conda/envs/Python-3.7-main/lib/python3.7/site-packages (from geocoder) (7.1.2)\nRequirement already satisfied: requests in /opt/conda/envs/Python-3.7-main/lib/python3.7/site-packages (from geocoder) (2.24.0)\nRequirement already satisfied: ratelim in /opt/conda/envs/Python-3.7-main/lib/python3.7/site-packages (from geocoder) (0.1.6)\nRequirement already satisfied: future in /opt/conda/envs/Python-3.7-main/lib/python3.7/site-packages (from geocoder) (0.18.2)\nRequirement already satisfied: six in /opt/conda/envs/Python-3.7-main/lib/python3.7/site-packages (from geocoder) (1.15.0)\nRequirement already satisfied: chardet<4,>=3.0.2 in /opt/conda/envs/Python-3.7-main/lib/python3.7/site-packages (from requests->geocoder) (3.0.4)\nRequirement already satisfied: urllib3!=1.25.0,!=1.25.1,<1.26,>=1.21.1 in /opt/conda/envs/Python-3.7-main/lib/python3.7/site-packages (from requests->geocoder) (1.25.9)\nRequirement already satisfied: certifi>=2017.4.17 in /opt/conda/envs/Python-3.7-main/lib/python3.7/site-packages (from requests->geocoder) (2020.11.8)\nRequirement already satisfied: idna<3,>=2.5 in /opt/conda/envs/Python-3.7-main/lib/python3.7/site-packages (from requests->geocoder) (2.9)\nRequirement already satisfied: decorator in /opt/conda/envs/Python-3.7-main/lib/python3.7/site-packages (from ratelim->geocoder) (4.4.2)\nRequirement already satisfied: folium in /opt/conda/envs/Python-3.7-main/lib/python3.7/site-packages (0.11.0)\nRequirement already satisfied: branca>=0.3.0 in /opt/conda/envs/Python-3.7-main/lib/python3.7/site-packages (from folium) (0.4.1)\nRequirement already satisfied: requests in /opt/conda/envs/Python-3.7-main/lib/python3.7/site-packages (from folium) (2.24.0)\nRequirement already satisfied: jinja2>=2.9 in /opt/conda/envs/Python-3.7-main/lib/python3.7/site-packages (from folium) (2.11.2)\nRequirement already satisfied: numpy in /opt/conda/envs/Python-3.7-main/lib/python3.7/site-packages (from folium) (1.18.5)\nRequirement already satisfied: chardet<4,>=3.0.2 in /opt/conda/envs/Python-3.7-main/lib/python3.7/site-packages (from requests->folium) (3.0.4)\nRequirement already satisfied: certifi>=2017.4.17 in /opt/conda/envs/Python-3.7-main/lib/python3.7/site-packages (from requests->folium) (2020.11.8)\nRequirement already satisfied: idna<3,>=2.5 in /opt/conda/envs/Python-3.7-main/lib/python3.7/site-packages (from requests->folium) (2.9)\nRequirement already satisfied: urllib3!=1.25.0,!=1.25.1,<1.26,>=1.21.1 in /opt/conda/envs/Python-3.7-main/lib/python3.7/site-packages (from requests->folium) (1.25.9)\nRequirement already satisfied: MarkupSafe>=0.23 in /opt/conda/envs/Python-3.7-main/lib/python3.7/site-packages (from jinja2>=2.9->folium) (1.1.1)\nLibraries imported.\n"
                }
            ],
            "source": "import csv\nimport pandas as pd\npd.set_option('display.max_columns', None)\npd.set_option('display.max_rows', None)\n\nimport numpy as np\nimport json # library to handle JSON files\n\nimport requests # library to handle requests\nfrom pandas.io.json import json_normalize # tranform JSON file into a pandas dataframe\n\n# import k-means from clustering stage\nfrom sklearn.cluster import KMeans\n\n# Matplotlib and associated plotting modules\nimport matplotlib.cm as cm\nimport matplotlib.colors as colors\n\n# Install geocoder\n!pip install geocoder\nimport geocoder\nfrom geopy.geocoders import Nominatim # convert an address into latitude and longitude values\n\n!pip install folium\nimport folium # map rendering library\n\nprint('Libraries imported.')"
        },
        {
            "cell_type": "code",
            "execution_count": 15,
            "metadata": {
                "scrolled": true
            },
            "outputs": [
                {
                    "data": {
                        "text/html": "<div>\n<style scoped>\n    .dataframe tbody tr th:only-of-type {\n        vertical-align: middle;\n    }\n\n    .dataframe tbody tr th {\n        vertical-align: top;\n    }\n\n    .dataframe thead th {\n        text-align: right;\n    }\n</style>\n<table border=\"1\" class=\"dataframe\">\n  <thead>\n    <tr style=\"text-align: right;\">\n      <th></th>\n      <th>PO_NAME</th>\n      <th>the_geom</th>\n      <th>ZIP</th>\n      <th>STATE</th>\n      <th>Area__</th>\n      <th>Length__</th>\n    </tr>\n  </thead>\n  <tbody>\n    <tr>\n      <th>0</th>\n      <td>NAPA</td>\n      <td>MULTIPOLYGON (((-122.10329200180091 38.5132829...</td>\n      <td>94558</td>\n      <td>CA</td>\n      <td>1.231326e+10</td>\n      <td>995176.225313</td>\n    </tr>\n    <tr>\n      <th>1</th>\n      <td>FAIRFIELD</td>\n      <td>MULTIPOLYGON (((-121.947475002335 38.301511000...</td>\n      <td>94533</td>\n      <td>CA</td>\n      <td>9.917861e+08</td>\n      <td>200772.556587</td>\n    </tr>\n    <tr>\n      <th>2</th>\n      <td>DIXON</td>\n      <td>MULTIPOLYGON (((-121.65335500334429 38.3133870...</td>\n      <td>95620</td>\n      <td>CA</td>\n      <td>7.236950e+09</td>\n      <td>441860.201400</td>\n    </tr>\n    <tr>\n      <th>3</th>\n      <td>SONOMA</td>\n      <td>MULTIPOLYGON (((-122.406843003057 38.155681999...</td>\n      <td>95476</td>\n      <td>CA</td>\n      <td>3.001414e+09</td>\n      <td>311318.546326</td>\n    </tr>\n    <tr>\n      <th>4</th>\n      <td>NAPA</td>\n      <td>MULTIPOLYGON (((-122.29368500225117 38.1552379...</td>\n      <td>94559</td>\n      <td>CA</td>\n      <td>1.194302e+09</td>\n      <td>359104.646602</td>\n    </tr>\n    <tr>\n      <th>5</th>\n      <td>PETALUMA</td>\n      <td>MULTIPOLYGON (((-122.45766900253919 38.1168949...</td>\n      <td>94954</td>\n      <td>CA</td>\n      <td>2.006544e+09</td>\n      <td>267474.490552</td>\n    </tr>\n    <tr>\n      <th>6</th>\n      <td>RIO VISTA</td>\n      <td>MULTIPOLYGON (((-121.8624620022998 38.06602999...</td>\n      <td>94571</td>\n      <td>CA</td>\n      <td>4.454446e+09</td>\n      <td>492056.752411</td>\n    </tr>\n    <tr>\n      <th>7</th>\n      <td>TRAVIS AFB</td>\n      <td>MULTIPOLYGON (((-121.89653900297888 38.2865679...</td>\n      <td>94535</td>\n      <td>CA</td>\n      <td>3.029397e+08</td>\n      <td>95232.008421</td>\n    </tr>\n    <tr>\n      <th>8</th>\n      <td>AMERICAN CANYON</td>\n      <td>MULTIPOLYGON (((-122.20418700285576 38.2096949...</td>\n      <td>94503</td>\n      <td>CA</td>\n      <td>6.931341e+08</td>\n      <td>136394.695137</td>\n    </tr>\n    <tr>\n      <th>9</th>\n      <td>NOVATO</td>\n      <td>MULTIPOLYGON (((-122.48655900081091 38.1005269...</td>\n      <td>94949</td>\n      <td>CA</td>\n      <td>4.316054e+08</td>\n      <td>119395.672078</td>\n    </tr>\n  </tbody>\n</table>\n</div>",
                        "text/plain": "           PO_NAME                                           the_geom    ZIP  \\\n0             NAPA  MULTIPOLYGON (((-122.10329200180091 38.5132829...  94558   \n1        FAIRFIELD  MULTIPOLYGON (((-121.947475002335 38.301511000...  94533   \n2            DIXON  MULTIPOLYGON (((-121.65335500334429 38.3133870...  95620   \n3           SONOMA  MULTIPOLYGON (((-122.406843003057 38.155681999...  95476   \n4             NAPA  MULTIPOLYGON (((-122.29368500225117 38.1552379...  94559   \n5         PETALUMA  MULTIPOLYGON (((-122.45766900253919 38.1168949...  94954   \n6        RIO VISTA  MULTIPOLYGON (((-121.8624620022998 38.06602999...  94571   \n7       TRAVIS AFB  MULTIPOLYGON (((-121.89653900297888 38.2865679...  94535   \n8  AMERICAN CANYON  MULTIPOLYGON (((-122.20418700285576 38.2096949...  94503   \n9           NOVATO  MULTIPOLYGON (((-122.48655900081091 38.1005269...  94949   \n\n  STATE        Area__       Length__  \n0    CA  1.231326e+10  995176.225313  \n1    CA  9.917861e+08  200772.556587  \n2    CA  7.236950e+09  441860.201400  \n3    CA  3.001414e+09  311318.546326  \n4    CA  1.194302e+09  359104.646602  \n5    CA  2.006544e+09  267474.490552  \n6    CA  4.454446e+09  492056.752411  \n7    CA  3.029397e+08   95232.008421  \n8    CA  6.931341e+08  136394.695137  \n9    CA  4.316054e+08  119395.672078  "
                    },
                    "execution_count": 15,
                    "metadata": {},
                    "output_type": "execute_result"
                }
            ],
            "source": "df = pd.read_csv ('https://data.sfgov.org/api/views/f9wk-m4qb/rows.csv?accessType=DOWNLOAD')   \ndf.head(10)"
        },
        {
            "cell_type": "markdown",
            "metadata": {},
            "source": "Rename PO_NAME column with a new name : \"Neighborhood\""
        },
        {
            "cell_type": "code",
            "execution_count": 16,
            "metadata": {},
            "outputs": [],
            "source": "df = df.rename(columns={'PO_NAME': 'Neighborhood'})"
        },
        {
            "cell_type": "markdown",
            "metadata": {},
            "source": "Drop all unecessary columns, in order to get a better view of our table"
        },
        {
            "cell_type": "code",
            "execution_count": 17,
            "metadata": {
                "scrolled": true
            },
            "outputs": [
                {
                    "data": {
                        "text/html": "<div>\n<style scoped>\n    .dataframe tbody tr th:only-of-type {\n        vertical-align: middle;\n    }\n\n    .dataframe tbody tr th {\n        vertical-align: top;\n    }\n\n    .dataframe thead th {\n        text-align: right;\n    }\n</style>\n<table border=\"1\" class=\"dataframe\">\n  <thead>\n    <tr style=\"text-align: right;\">\n      <th></th>\n      <th>Neighborhood</th>\n      <th>ZIP</th>\n    </tr>\n  </thead>\n  <tbody>\n    <tr>\n      <th>0</th>\n      <td>NAPA</td>\n      <td>94558</td>\n    </tr>\n    <tr>\n      <th>1</th>\n      <td>FAIRFIELD</td>\n      <td>94533</td>\n    </tr>\n    <tr>\n      <th>2</th>\n      <td>DIXON</td>\n      <td>95620</td>\n    </tr>\n    <tr>\n      <th>3</th>\n      <td>SONOMA</td>\n      <td>95476</td>\n    </tr>\n    <tr>\n      <th>4</th>\n      <td>NAPA</td>\n      <td>94559</td>\n    </tr>\n    <tr>\n      <th>5</th>\n      <td>PETALUMA</td>\n      <td>94954</td>\n    </tr>\n    <tr>\n      <th>6</th>\n      <td>RIO VISTA</td>\n      <td>94571</td>\n    </tr>\n    <tr>\n      <th>7</th>\n      <td>TRAVIS AFB</td>\n      <td>94535</td>\n    </tr>\n    <tr>\n      <th>8</th>\n      <td>AMERICAN CANYON</td>\n      <td>94503</td>\n    </tr>\n    <tr>\n      <th>9</th>\n      <td>NOVATO</td>\n      <td>94949</td>\n    </tr>\n    <tr>\n      <th>10</th>\n      <td>NOVATO</td>\n      <td>94945</td>\n    </tr>\n    <tr>\n      <th>11</th>\n      <td>BIRDS LANDING</td>\n      <td>94512</td>\n    </tr>\n    <tr>\n      <th>12</th>\n      <td>VALLEJO</td>\n      <td>94591</td>\n    </tr>\n    <tr>\n      <th>13</th>\n      <td>BENICIA</td>\n      <td>94510</td>\n    </tr>\n    <tr>\n      <th>14</th>\n      <td>VALLEJO</td>\n      <td>94592</td>\n    </tr>\n    <tr>\n      <th>15</th>\n      <td>VALLEJO</td>\n      <td>94589</td>\n    </tr>\n    <tr>\n      <th>16</th>\n      <td>NOVATO</td>\n      <td>94947</td>\n    </tr>\n    <tr>\n      <th>17</th>\n      <td>VALLEJO</td>\n      <td>94590</td>\n    </tr>\n    <tr>\n      <th>18</th>\n      <td>NICASIO</td>\n      <td>94946</td>\n    </tr>\n    <tr>\n      <th>19</th>\n      <td>OAKLEY</td>\n      <td>94561</td>\n    </tr>\n    <tr>\n      <th>20</th>\n      <td>CROCKETT</td>\n      <td>94525</td>\n    </tr>\n    <tr>\n      <th>21</th>\n      <td>PORT COSTA</td>\n      <td>94569</td>\n    </tr>\n    <tr>\n      <th>22</th>\n      <td>SUISUN CITY</td>\n      <td>94585</td>\n    </tr>\n    <tr>\n      <th>23</th>\n      <td>SAN FRANCISCO</td>\n      <td>94103</td>\n    </tr>\n    <tr>\n      <th>24</th>\n      <td>PITTSBURG</td>\n      <td>94565</td>\n    </tr>\n    <tr>\n      <th>25</th>\n      <td>SAN RAFAEL</td>\n      <td>94903</td>\n    </tr>\n    <tr>\n      <th>26</th>\n      <td>CONCORD</td>\n      <td>94520</td>\n    </tr>\n    <tr>\n      <th>27</th>\n      <td>RODEO</td>\n      <td>94572</td>\n    </tr>\n    <tr>\n      <th>28</th>\n      <td>MARTINEZ</td>\n      <td>94553</td>\n    </tr>\n    <tr>\n      <th>29</th>\n      <td>HERCULES</td>\n      <td>94547</td>\n    </tr>\n    <tr>\n      <th>30</th>\n      <td>SAN GERONIMO</td>\n      <td>94963</td>\n    </tr>\n    <tr>\n      <th>31</th>\n      <td>LAGUNITAS</td>\n      <td>94938</td>\n    </tr>\n    <tr>\n      <th>32</th>\n      <td>ALAMEDA</td>\n      <td>94502</td>\n    </tr>\n    <tr>\n      <th>33</th>\n      <td>ANTIOCH</td>\n      <td>94509</td>\n    </tr>\n    <tr>\n      <th>34</th>\n      <td>SAN ANSELMO</td>\n      <td>94960</td>\n    </tr>\n    <tr>\n      <th>35</th>\n      <td>BRENTWOOD</td>\n      <td>94513</td>\n    </tr>\n    <tr>\n      <th>36</th>\n      <td>SAN FRANCISCO</td>\n      <td>94109</td>\n    </tr>\n    <tr>\n      <th>37</th>\n      <td>CONCORD</td>\n      <td>94521</td>\n    </tr>\n    <tr>\n      <th>38</th>\n      <td>FAIRFAX</td>\n      <td>94930</td>\n    </tr>\n    <tr>\n      <th>39</th>\n      <td>WOODACRE</td>\n      <td>94973</td>\n    </tr>\n    <tr>\n      <th>40</th>\n      <td>FOREST KNOLLS</td>\n      <td>94933</td>\n    </tr>\n    <tr>\n      <th>41</th>\n      <td>WALNUT CREEK</td>\n      <td>94598</td>\n    </tr>\n    <tr>\n      <th>42</th>\n      <td>PINOLE</td>\n      <td>94564</td>\n    </tr>\n    <tr>\n      <th>43</th>\n      <td>RICHMOND</td>\n      <td>94801</td>\n    </tr>\n    <tr>\n      <th>44</th>\n      <td>CONCORD</td>\n      <td>94519</td>\n    </tr>\n    <tr>\n      <th>45</th>\n      <td>SAN PABLO</td>\n      <td>94806</td>\n    </tr>\n    <tr>\n      <th>46</th>\n      <td>SAN RAFAEL</td>\n      <td>94901</td>\n    </tr>\n    <tr>\n      <th>47</th>\n      <td>ANTIOCH</td>\n      <td>94531</td>\n    </tr>\n    <tr>\n      <th>48</th>\n      <td>EL SOBRANTE</td>\n      <td>94803</td>\n    </tr>\n    <tr>\n      <th>49</th>\n      <td>OAKLAND</td>\n      <td>94601</td>\n    </tr>\n    <tr>\n      <th>50</th>\n      <td>PLEASANT HILL</td>\n      <td>94523</td>\n    </tr>\n    <tr>\n      <th>51</th>\n      <td>CONCORD</td>\n      <td>94518</td>\n    </tr>\n    <tr>\n      <th>52</th>\n      <td>GREENBRAE</td>\n      <td>94904</td>\n    </tr>\n    <tr>\n      <th>53</th>\n      <td>SAN FRANCISCO</td>\n      <td>94115</td>\n    </tr>\n    <tr>\n      <th>54</th>\n      <td>LAFAYETTE</td>\n      <td>94549</td>\n    </tr>\n    <tr>\n      <th>55</th>\n      <td>CLAYTON</td>\n      <td>94517</td>\n    </tr>\n    <tr>\n      <th>56</th>\n      <td>RICHMOND</td>\n      <td>94805</td>\n    </tr>\n    <tr>\n      <th>57</th>\n      <td>RICHMOND</td>\n      <td>94804</td>\n    </tr>\n    <tr>\n      <th>58</th>\n      <td>LARKSPUR</td>\n      <td>94939</td>\n    </tr>\n    <tr>\n      <th>59</th>\n      <td>SAN QUENTIN</td>\n      <td>94964</td>\n    </tr>\n    <tr>\n      <th>60</th>\n      <td>EL CERRITO</td>\n      <td>94530</td>\n    </tr>\n    <tr>\n      <th>61</th>\n      <td>CORTE MADERA</td>\n      <td>94925</td>\n    </tr>\n    <tr>\n      <th>62</th>\n      <td>WALNUT CREEK</td>\n      <td>94596</td>\n    </tr>\n    <tr>\n      <th>63</th>\n      <td>BERKELEY</td>\n      <td>94708</td>\n    </tr>\n    <tr>\n      <th>64</th>\n      <td>SAN FRANCISCO</td>\n      <td>94105</td>\n    </tr>\n    <tr>\n      <th>65</th>\n      <td>MILL VALLEY</td>\n      <td>94941</td>\n    </tr>\n    <tr>\n      <th>66</th>\n      <td>ORINDA</td>\n      <td>94563</td>\n    </tr>\n    <tr>\n      <th>67</th>\n      <td>BERKELEY</td>\n      <td>94720</td>\n    </tr>\n    <tr>\n      <th>68</th>\n      <td>BERKELEY</td>\n      <td>94707</td>\n    </tr>\n    <tr>\n      <th>69</th>\n      <td>BYRON</td>\n      <td>94514</td>\n    </tr>\n    <tr>\n      <th>70</th>\n      <td>STINSON BEACH</td>\n      <td>94970</td>\n    </tr>\n    <tr>\n      <th>71</th>\n      <td>ALBANY</td>\n      <td>94706</td>\n    </tr>\n    <tr>\n      <th>72</th>\n      <td>BERKELEY</td>\n      <td>94710</td>\n    </tr>\n    <tr>\n      <th>73</th>\n      <td>SAN FRANCISCO</td>\n      <td>94104</td>\n    </tr>\n    <tr>\n      <th>74</th>\n      <td>WALNUT CREEK</td>\n      <td>94595</td>\n    </tr>\n    <tr>\n      <th>75</th>\n      <td>BERKELEY</td>\n      <td>94709</td>\n    </tr>\n    <tr>\n      <th>76</th>\n      <td>BERKELEY</td>\n      <td>94703</td>\n    </tr>\n    <tr>\n      <th>77</th>\n      <td>BERKELEY</td>\n      <td>94704</td>\n    </tr>\n    <tr>\n      <th>78</th>\n      <td>ALAMO</td>\n      <td>94507</td>\n    </tr>\n    <tr>\n      <th>79</th>\n      <td>BERKELEY</td>\n      <td>94702</td>\n    </tr>\n    <tr>\n      <th>80</th>\n      <td>SAUSALITO</td>\n      <td>94965</td>\n    </tr>\n    <tr>\n      <th>81</th>\n      <td>MORAGA</td>\n      <td>94556</td>\n    </tr>\n    <tr>\n      <th>82</th>\n      <td>BELVEDERE TIBURON</td>\n      <td>94920</td>\n    </tr>\n    <tr>\n      <th>83</th>\n      <td>SAN FRANCISCO</td>\n      <td>94118</td>\n    </tr>\n    <tr>\n      <th>84</th>\n      <td>BERKELEY</td>\n      <td>94705</td>\n    </tr>\n    <tr>\n      <th>85</th>\n      <td>OAKLAND</td>\n      <td>94611</td>\n    </tr>\n    <tr>\n      <th>86</th>\n      <td>OAKLAND</td>\n      <td>94618</td>\n    </tr>\n    <tr>\n      <th>87</th>\n      <td>OAKLAND</td>\n      <td>94609</td>\n    </tr>\n    <tr>\n      <th>88</th>\n      <td>LIVERMORE</td>\n      <td>94550</td>\n    </tr>\n    <tr>\n      <th>89</th>\n      <td>EMERYVILLE</td>\n      <td>94608</td>\n    </tr>\n    <tr>\n      <th>90</th>\n      <td>DIABLO</td>\n      <td>94528</td>\n    </tr>\n    <tr>\n      <th>91</th>\n      <td>DANVILLE</td>\n      <td>94526</td>\n    </tr>\n    <tr>\n      <th>92</th>\n      <td>DANVILLE</td>\n      <td>94506</td>\n    </tr>\n    <tr>\n      <th>93</th>\n      <td>SAN FRANCISCO</td>\n      <td>94130</td>\n    </tr>\n    <tr>\n      <th>94</th>\n      <td>OAKLAND</td>\n      <td>94607</td>\n    </tr>\n    <tr>\n      <th>95</th>\n      <td>SAN FRANCISCO</td>\n      <td>94123</td>\n    </tr>\n    <tr>\n      <th>96</th>\n      <td>OAKLAND</td>\n      <td>94610</td>\n    </tr>\n    <tr>\n      <th>97</th>\n      <td>SAN RAMON</td>\n      <td>94583</td>\n    </tr>\n    <tr>\n      <th>98</th>\n      <td>OAKLAND</td>\n      <td>94602</td>\n    </tr>\n    <tr>\n      <th>99</th>\n      <td>OAKLAND</td>\n      <td>94612</td>\n    </tr>\n    <tr>\n      <th>100</th>\n      <td>CASTRO VALLEY</td>\n      <td>94546</td>\n    </tr>\n    <tr>\n      <th>101</th>\n      <td>SAN FRANCISCO</td>\n      <td>94133</td>\n    </tr>\n    <tr>\n      <th>102</th>\n      <td>SAN FRANCISCO</td>\n      <td>94129</td>\n    </tr>\n    <tr>\n      <th>103</th>\n      <td>OAKLAND</td>\n      <td>94606</td>\n    </tr>\n    <tr>\n      <th>104</th>\n      <td>SAN FRANCISCO</td>\n      <td>94111</td>\n    </tr>\n    <tr>\n      <th>105</th>\n      <td>OAKLAND</td>\n      <td>94619</td>\n    </tr>\n    <tr>\n      <th>106</th>\n      <td>SAN FRANCISCO</td>\n      <td>94121</td>\n    </tr>\n    <tr>\n      <th>107</th>\n      <td>SAN FRANCISCO</td>\n      <td>94102</td>\n    </tr>\n    <tr>\n      <th>108</th>\n      <td>CASTRO VALLEY</td>\n      <td>94552</td>\n    </tr>\n    <tr>\n      <th>109</th>\n      <td>ALAMEDA</td>\n      <td>94501</td>\n    </tr>\n    <tr>\n      <th>110</th>\n      <td>SAN FRANCISCO</td>\n      <td>94108</td>\n    </tr>\n    <tr>\n      <th>111</th>\n      <td>OAKLAND</td>\n      <td>94605</td>\n    </tr>\n    <tr>\n      <th>112</th>\n      <td>OAKLAND</td>\n      <td>94613</td>\n    </tr>\n    <tr>\n      <th>113</th>\n      <td>SAN FRANCISCO</td>\n      <td>94117</td>\n    </tr>\n    <tr>\n      <th>114</th>\n      <td>SAN FRANCISCO</td>\n      <td>94122</td>\n    </tr>\n    <tr>\n      <th>115</th>\n      <td>OAKLAND</td>\n      <td>94621</td>\n    </tr>\n    <tr>\n      <th>116</th>\n      <td>SAN FRANCISCO</td>\n      <td>94114</td>\n    </tr>\n    <tr>\n      <th>117</th>\n      <td>SAN FRANCISCO</td>\n      <td>94107</td>\n    </tr>\n    <tr>\n      <th>118</th>\n      <td>SAN FRANCISCO</td>\n      <td>94110</td>\n    </tr>\n    <tr>\n      <th>119</th>\n      <td>PLEASANTON</td>\n      <td>94588</td>\n    </tr>\n    <tr>\n      <th>120</th>\n      <td>SAN FRANCISCO</td>\n      <td>94131</td>\n    </tr>\n    <tr>\n      <th>121</th>\n      <td>OAKLAND</td>\n      <td>94603</td>\n    </tr>\n    <tr>\n      <th>122</th>\n      <td>SAN FRANCISCO</td>\n      <td>94116</td>\n    </tr>\n    <tr>\n      <th>123</th>\n      <td>SAN FRANCISCO</td>\n      <td>94124</td>\n    </tr>\n    <tr>\n      <th>124</th>\n      <td>SAN FRANCISCO</td>\n      <td>94127</td>\n    </tr>\n    <tr>\n      <th>125</th>\n      <td>SAN LEANDRO</td>\n      <td>94577</td>\n    </tr>\n    <tr>\n      <th>126</th>\n      <td>SAN FRANCISCO</td>\n      <td>94132</td>\n    </tr>\n    <tr>\n      <th>127</th>\n      <td>SAN FRANCISCO</td>\n      <td>94112</td>\n    </tr>\n    <tr>\n      <th>128</th>\n      <td>SAN FRANCISCO</td>\n      <td>94134</td>\n    </tr>\n    <tr>\n      <th>129</th>\n      <td>DUBLIN</td>\n      <td>94568</td>\n    </tr>\n    <tr>\n      <th>130</th>\n      <td>SAN LEANDRO</td>\n      <td>94578</td>\n    </tr>\n    <tr>\n      <th>131</th>\n      <td>DALY CITY</td>\n      <td>94015</td>\n    </tr>\n    <tr>\n      <th>132</th>\n      <td>BRISBANE</td>\n      <td>94005</td>\n    </tr>\n    <tr>\n      <th>133</th>\n      <td>DALY CITY</td>\n      <td>94014</td>\n    </tr>\n    <tr>\n      <th>134</th>\n      <td>SAN LEANDRO</td>\n      <td>94579</td>\n    </tr>\n    <tr>\n      <th>135</th>\n      <td>SAN LORENZO</td>\n      <td>94580</td>\n    </tr>\n    <tr>\n      <th>136</th>\n      <td>HAYWARD</td>\n      <td>94541</td>\n    </tr>\n    <tr>\n      <th>137</th>\n      <td>PLEASANTON</td>\n      <td>94566</td>\n    </tr>\n    <tr>\n      <th>138</th>\n      <td>HAYWARD</td>\n      <td>94542</td>\n    </tr>\n    <tr>\n      <th>139</th>\n      <td>HAYWARD</td>\n      <td>94544</td>\n    </tr>\n    <tr>\n      <th>140</th>\n      <td>PACIFICA</td>\n      <td>94044</td>\n    </tr>\n    <tr>\n      <th>141</th>\n      <td>HAYWARD</td>\n      <td>94545</td>\n    </tr>\n    <tr>\n      <th>142</th>\n      <td>SUNOL</td>\n      <td>94586</td>\n    </tr>\n    <tr>\n      <th>143</th>\n      <td>SOUTH SAN FRANCISCO</td>\n      <td>94080</td>\n    </tr>\n    <tr>\n      <th>144</th>\n      <td>UNION CITY</td>\n      <td>94587</td>\n    </tr>\n    <tr>\n      <th>145</th>\n      <td>SAN BRUNO</td>\n      <td>94066</td>\n    </tr>\n    <tr>\n      <th>146</th>\n      <td>SAN FRANCISCO</td>\n      <td>94128</td>\n    </tr>\n    <tr>\n      <th>147</th>\n      <td>SAN MATEO</td>\n      <td>94401</td>\n    </tr>\n    <tr>\n      <th>148</th>\n      <td>HALF MOON BAY</td>\n      <td>94019</td>\n    </tr>\n    <tr>\n      <th>149</th>\n      <td>MILLBRAE</td>\n      <td>94030</td>\n    </tr>\n    <tr>\n      <th>150</th>\n      <td>FREMONT</td>\n      <td>94555</td>\n    </tr>\n    <tr>\n      <th>151</th>\n      <td>MOSS BEACH</td>\n      <td>94038</td>\n    </tr>\n    <tr>\n      <th>152</th>\n      <td>BURLINGAME</td>\n      <td>94010</td>\n    </tr>\n    <tr>\n      <th>153</th>\n      <td>FREMONT</td>\n      <td>94536</td>\n    </tr>\n    <tr>\n      <th>154</th>\n      <td>FREMONT</td>\n      <td>94539</td>\n    </tr>\n    <tr>\n      <th>155</th>\n      <td>SAN MATEO</td>\n      <td>94402</td>\n    </tr>\n    <tr>\n      <th>156</th>\n      <td>SAN MATEO</td>\n      <td>94404</td>\n    </tr>\n    <tr>\n      <th>157</th>\n      <td>SAN MATEO</td>\n      <td>94403</td>\n    </tr>\n    <tr>\n      <th>158</th>\n      <td>FREMONT</td>\n      <td>94538</td>\n    </tr>\n    <tr>\n      <th>159</th>\n      <td>NEWARK</td>\n      <td>94560</td>\n    </tr>\n    <tr>\n      <th>160</th>\n      <td>REDWOOD CITY</td>\n      <td>94065</td>\n    </tr>\n    <tr>\n      <th>161</th>\n      <td>REDWOOD CITY</td>\n      <td>94063</td>\n    </tr>\n    <tr>\n      <th>162</th>\n      <td>ATHERTON</td>\n      <td>94027</td>\n    </tr>\n    <tr>\n      <th>163</th>\n      <td>BELMONT</td>\n      <td>94002</td>\n    </tr>\n    <tr>\n      <th>164</th>\n      <td>SAN CARLOS</td>\n      <td>94070</td>\n    </tr>\n    <tr>\n      <th>165</th>\n      <td>SAN JOSE</td>\n      <td>95134</td>\n    </tr>\n    <tr>\n      <th>166</th>\n      <td>ALVISO</td>\n      <td>95002</td>\n    </tr>\n    <tr>\n      <th>167</th>\n      <td>REDWOOD CITY</td>\n      <td>94062</td>\n    </tr>\n    <tr>\n      <th>168</th>\n      <td>SUNNYVALE</td>\n      <td>94089</td>\n    </tr>\n    <tr>\n      <th>169</th>\n      <td>PALO ALTO</td>\n      <td>94301</td>\n    </tr>\n    <tr>\n      <th>170</th>\n      <td>MENLO PARK</td>\n      <td>94025</td>\n    </tr>\n    <tr>\n      <th>171</th>\n      <td>PALO ALTO</td>\n      <td>94303</td>\n    </tr>\n    <tr>\n      <th>172</th>\n      <td>MILPITAS</td>\n      <td>95035</td>\n    </tr>\n    <tr>\n      <th>173</th>\n      <td>MOUNT HAMILTON</td>\n      <td>95140</td>\n    </tr>\n    <tr>\n      <th>174</th>\n      <td>REDWOOD CITY</td>\n      <td>94061</td>\n    </tr>\n    <tr>\n      <th>175</th>\n      <td>MOUNTAIN VIEW</td>\n      <td>94043</td>\n    </tr>\n    <tr>\n      <th>176</th>\n      <td>PALO ALTO</td>\n      <td>94304</td>\n    </tr>\n    <tr>\n      <th>177</th>\n      <td>STANFORD</td>\n      <td>94305</td>\n    </tr>\n    <tr>\n      <th>178</th>\n      <td>MOUNTAIN VIEW</td>\n      <td>94035</td>\n    </tr>\n    <tr>\n      <th>179</th>\n      <td>PALO ALTO</td>\n      <td>94306</td>\n    </tr>\n    <tr>\n      <th>180</th>\n      <td>PORTOLA VALLEY</td>\n      <td>94028</td>\n    </tr>\n    <tr>\n      <th>181</th>\n      <td>MOUNTAIN VIEW</td>\n      <td>94040</td>\n    </tr>\n    <tr>\n      <th>182</th>\n      <td>LOS ALTOS</td>\n      <td>94022</td>\n    </tr>\n    <tr>\n      <th>183</th>\n      <td>SUNNYVALE</td>\n      <td>94085</td>\n    </tr>\n    <tr>\n      <th>184</th>\n      <td>SUNNYVALE</td>\n      <td>94086</td>\n    </tr>\n    <tr>\n      <th>185</th>\n      <td>LOS ALTOS</td>\n      <td>94024</td>\n    </tr>\n    <tr>\n      <th>186</th>\n      <td>SUNNYVALE</td>\n      <td>94087</td>\n    </tr>\n  </tbody>\n</table>\n</div>",
                        "text/plain": "            Neighborhood    ZIP\n0                   NAPA  94558\n1              FAIRFIELD  94533\n2                  DIXON  95620\n3                 SONOMA  95476\n4                   NAPA  94559\n5               PETALUMA  94954\n6              RIO VISTA  94571\n7             TRAVIS AFB  94535\n8        AMERICAN CANYON  94503\n9                 NOVATO  94949\n10                NOVATO  94945\n11         BIRDS LANDING  94512\n12               VALLEJO  94591\n13               BENICIA  94510\n14               VALLEJO  94592\n15               VALLEJO  94589\n16                NOVATO  94947\n17               VALLEJO  94590\n18               NICASIO  94946\n19                OAKLEY  94561\n20              CROCKETT  94525\n21            PORT COSTA  94569\n22           SUISUN CITY  94585\n23         SAN FRANCISCO  94103\n24             PITTSBURG  94565\n25            SAN RAFAEL  94903\n26               CONCORD  94520\n27                 RODEO  94572\n28              MARTINEZ  94553\n29              HERCULES  94547\n30          SAN GERONIMO  94963\n31             LAGUNITAS  94938\n32               ALAMEDA  94502\n33               ANTIOCH  94509\n34           SAN ANSELMO  94960\n35             BRENTWOOD  94513\n36         SAN FRANCISCO  94109\n37               CONCORD  94521\n38               FAIRFAX  94930\n39              WOODACRE  94973\n40         FOREST KNOLLS  94933\n41          WALNUT CREEK  94598\n42                PINOLE  94564\n43              RICHMOND  94801\n44               CONCORD  94519\n45             SAN PABLO  94806\n46            SAN RAFAEL  94901\n47               ANTIOCH  94531\n48           EL SOBRANTE  94803\n49               OAKLAND  94601\n50         PLEASANT HILL  94523\n51               CONCORD  94518\n52             GREENBRAE  94904\n53         SAN FRANCISCO  94115\n54             LAFAYETTE  94549\n55               CLAYTON  94517\n56              RICHMOND  94805\n57              RICHMOND  94804\n58              LARKSPUR  94939\n59           SAN QUENTIN  94964\n60            EL CERRITO  94530\n61          CORTE MADERA  94925\n62          WALNUT CREEK  94596\n63              BERKELEY  94708\n64         SAN FRANCISCO  94105\n65           MILL VALLEY  94941\n66                ORINDA  94563\n67              BERKELEY  94720\n68              BERKELEY  94707\n69                 BYRON  94514\n70         STINSON BEACH  94970\n71                ALBANY  94706\n72              BERKELEY  94710\n73         SAN FRANCISCO  94104\n74          WALNUT CREEK  94595\n75              BERKELEY  94709\n76              BERKELEY  94703\n77              BERKELEY  94704\n78                 ALAMO  94507\n79              BERKELEY  94702\n80             SAUSALITO  94965\n81                MORAGA  94556\n82     BELVEDERE TIBURON  94920\n83         SAN FRANCISCO  94118\n84              BERKELEY  94705\n85               OAKLAND  94611\n86               OAKLAND  94618\n87               OAKLAND  94609\n88             LIVERMORE  94550\n89            EMERYVILLE  94608\n90                DIABLO  94528\n91              DANVILLE  94526\n92              DANVILLE  94506\n93         SAN FRANCISCO  94130\n94               OAKLAND  94607\n95         SAN FRANCISCO  94123\n96               OAKLAND  94610\n97             SAN RAMON  94583\n98               OAKLAND  94602\n99               OAKLAND  94612\n100        CASTRO VALLEY  94546\n101        SAN FRANCISCO  94133\n102        SAN FRANCISCO  94129\n103              OAKLAND  94606\n104        SAN FRANCISCO  94111\n105              OAKLAND  94619\n106        SAN FRANCISCO  94121\n107        SAN FRANCISCO  94102\n108        CASTRO VALLEY  94552\n109              ALAMEDA  94501\n110        SAN FRANCISCO  94108\n111              OAKLAND  94605\n112              OAKLAND  94613\n113        SAN FRANCISCO  94117\n114        SAN FRANCISCO  94122\n115              OAKLAND  94621\n116        SAN FRANCISCO  94114\n117        SAN FRANCISCO  94107\n118        SAN FRANCISCO  94110\n119           PLEASANTON  94588\n120        SAN FRANCISCO  94131\n121              OAKLAND  94603\n122        SAN FRANCISCO  94116\n123        SAN FRANCISCO  94124\n124        SAN FRANCISCO  94127\n125          SAN LEANDRO  94577\n126        SAN FRANCISCO  94132\n127        SAN FRANCISCO  94112\n128        SAN FRANCISCO  94134\n129               DUBLIN  94568\n130          SAN LEANDRO  94578\n131            DALY CITY  94015\n132             BRISBANE  94005\n133            DALY CITY  94014\n134          SAN LEANDRO  94579\n135          SAN LORENZO  94580\n136              HAYWARD  94541\n137           PLEASANTON  94566\n138              HAYWARD  94542\n139              HAYWARD  94544\n140             PACIFICA  94044\n141              HAYWARD  94545\n142                SUNOL  94586\n143  SOUTH SAN FRANCISCO  94080\n144           UNION CITY  94587\n145            SAN BRUNO  94066\n146        SAN FRANCISCO  94128\n147            SAN MATEO  94401\n148        HALF MOON BAY  94019\n149             MILLBRAE  94030\n150              FREMONT  94555\n151           MOSS BEACH  94038\n152           BURLINGAME  94010\n153              FREMONT  94536\n154              FREMONT  94539\n155            SAN MATEO  94402\n156            SAN MATEO  94404\n157            SAN MATEO  94403\n158              FREMONT  94538\n159               NEWARK  94560\n160         REDWOOD CITY  94065\n161         REDWOOD CITY  94063\n162             ATHERTON  94027\n163              BELMONT  94002\n164           SAN CARLOS  94070\n165             SAN JOSE  95134\n166               ALVISO  95002\n167         REDWOOD CITY  94062\n168            SUNNYVALE  94089\n169            PALO ALTO  94301\n170           MENLO PARK  94025\n171            PALO ALTO  94303\n172             MILPITAS  95035\n173       MOUNT HAMILTON  95140\n174         REDWOOD CITY  94061\n175        MOUNTAIN VIEW  94043\n176            PALO ALTO  94304\n177             STANFORD  94305\n178        MOUNTAIN VIEW  94035\n179            PALO ALTO  94306\n180       PORTOLA VALLEY  94028\n181        MOUNTAIN VIEW  94040\n182            LOS ALTOS  94022\n183            SUNNYVALE  94085\n184            SUNNYVALE  94086\n185            LOS ALTOS  94024\n186            SUNNYVALE  94087"
                    },
                    "execution_count": 17,
                    "metadata": {},
                    "output_type": "execute_result"
                }
            ],
            "source": "neighborhoods = df.drop(['the_geom','STATE','Area__','Length__'], axis=1)\nneighborhoods"
        },
        {
            "cell_type": "code",
            "execution_count": 18,
            "metadata": {},
            "outputs": [
                {
                    "name": "stdout",
                    "output_type": "stream",
                    "text": "The dataframe has 187 neighborhoods (not yet compiled).\n"
                }
            ],
            "source": "print('The dataframe has {} neighborhoods (not yet compiled).'.format(\n        neighborhoods.shape[0])\n    )"
        },
        {
            "cell_type": "code",
            "execution_count": 26,
            "metadata": {},
            "outputs": [
                {
                    "name": "stdout",
                    "output_type": "stream",
                    "text": "The dataframe has the following number of UNIQUE neighborhoods:\n"
                },
                {
                    "data": {
                        "text/plain": "97"
                    },
                    "execution_count": 26,
                    "metadata": {},
                    "output_type": "execute_result"
                }
            ],
            "source": "print('The dataframe has the following number of UNIQUE neighborhoods:')\nneighborhoods['Neighborhood'].nunique()"
        },
        {
            "cell_type": "code",
            "execution_count": 27,
            "metadata": {},
            "outputs": [
                {
                    "name": "stdout",
                    "output_type": "stream",
                    "text": "The dataframe has the following number of UNIQUE ZIP codes:\n"
                },
                {
                    "data": {
                        "text/plain": "187"
                    },
                    "execution_count": 27,
                    "metadata": {},
                    "output_type": "execute_result"
                }
            ],
            "source": "print('The dataframe has the following number of UNIQUE ZIP codes:')\nneighborhoods['ZIP'].nunique()"
        },
        {
            "cell_type": "markdown",
            "metadata": {},
            "source": "Thanks to this analysis, we can easily notice that our dataset has 187 rows and 2 columns : Neighborhood & ZIP. In the Neighborhood column we have several repetitions (e.g. NOVATO rows 9 & 10) because we have only 97 unique neighborhoods in the Bay Area. We can also notice that we have 187 ZIP codes. \nThus, we can conclude by saying that one Neighborhood has several ZIP codes associated. This information should be kept in mind when we will import the different information. We should rather focus on importing data based on the ZIP codes rather than based on the name of the Neighborhood."
        },
        {
            "cell_type": "markdown",
            "metadata": {},
            "source": "\nOur database is now completely cleaned, we can start playing a little bit with Geopy, running some analysis on our data and all different functionalities. "
        },
        {
            "cell_type": "markdown",
            "metadata": {},
            "source": "#### Use geopy library to get the latitude and longitude values of New York City.\nIn order to define an instance of the geocoder, we need to define a user_agent. We will name our agent <em>sf_explorer</em>, as shown below.\n"
        },
        {
            "cell_type": "code",
            "execution_count": 19,
            "metadata": {},
            "outputs": [
                {
                    "ename": "GeocoderUnavailable",
                    "evalue": "HTTPSConnectionPool(host='nominatim.openstreetmap.org', port=443): Max retries exceeded with url: /search?q=San+Fransisco%2C+CA&format=json&limit=1 (Caused by ReadTimeoutError(\"HTTPSConnectionPool(host='nominatim.openstreetmap.org', port=443): Read timed out. (read timeout=1)\"))",
                    "output_type": "error",
                    "traceback": [
                        "\u001b[0;31m---------------------------------------------------------------------------\u001b[0m",
                        "\u001b[0;31mtimeout\u001b[0m                                   Traceback (most recent call last)",
                        "\u001b[0;32m/opt/conda/envs/Python-3.7-main/lib/python3.7/site-packages/urllib3/connectionpool.py\u001b[0m in \u001b[0;36m_make_request\u001b[0;34m(self, conn, method, url, timeout, chunked, **httplib_request_kw)\u001b[0m\n\u001b[1;32m    425\u001b[0m                     \u001b[0;31m# Otherwise it looks like a bug in the code.\u001b[0m\u001b[0;34m\u001b[0m\u001b[0;34m\u001b[0m\u001b[0;34m\u001b[0m\u001b[0m\n\u001b[0;32m--> 426\u001b[0;31m                     \u001b[0msix\u001b[0m\u001b[0;34m.\u001b[0m\u001b[0mraise_from\u001b[0m\u001b[0;34m(\u001b[0m\u001b[0me\u001b[0m\u001b[0;34m,\u001b[0m \u001b[0;32mNone\u001b[0m\u001b[0;34m)\u001b[0m\u001b[0;34m\u001b[0m\u001b[0;34m\u001b[0m\u001b[0m\n\u001b[0m\u001b[1;32m    427\u001b[0m         \u001b[0;32mexcept\u001b[0m \u001b[0;34m(\u001b[0m\u001b[0mSocketTimeout\u001b[0m\u001b[0;34m,\u001b[0m \u001b[0mBaseSSLError\u001b[0m\u001b[0;34m,\u001b[0m \u001b[0mSocketError\u001b[0m\u001b[0;34m)\u001b[0m \u001b[0;32mas\u001b[0m \u001b[0me\u001b[0m\u001b[0;34m:\u001b[0m\u001b[0;34m\u001b[0m\u001b[0;34m\u001b[0m\u001b[0m\n",
                        "\u001b[0;32m/opt/conda/envs/Python-3.7-main/lib/python3.7/site-packages/urllib3/packages/six.py\u001b[0m in \u001b[0;36mraise_from\u001b[0;34m(value, from_value)\u001b[0m\n",
                        "\u001b[0;32m/opt/conda/envs/Python-3.7-main/lib/python3.7/site-packages/urllib3/connectionpool.py\u001b[0m in \u001b[0;36m_make_request\u001b[0;34m(self, conn, method, url, timeout, chunked, **httplib_request_kw)\u001b[0m\n\u001b[1;32m    420\u001b[0m                 \u001b[0;32mtry\u001b[0m\u001b[0;34m:\u001b[0m\u001b[0;34m\u001b[0m\u001b[0;34m\u001b[0m\u001b[0m\n\u001b[0;32m--> 421\u001b[0;31m                     \u001b[0mhttplib_response\u001b[0m \u001b[0;34m=\u001b[0m \u001b[0mconn\u001b[0m\u001b[0;34m.\u001b[0m\u001b[0mgetresponse\u001b[0m\u001b[0;34m(\u001b[0m\u001b[0;34m)\u001b[0m\u001b[0;34m\u001b[0m\u001b[0;34m\u001b[0m\u001b[0m\n\u001b[0m\u001b[1;32m    422\u001b[0m                 \u001b[0;32mexcept\u001b[0m \u001b[0mBaseException\u001b[0m \u001b[0;32mas\u001b[0m \u001b[0me\u001b[0m\u001b[0;34m:\u001b[0m\u001b[0;34m\u001b[0m\u001b[0;34m\u001b[0m\u001b[0m\n",
                        "\u001b[0;32m/opt/conda/envs/Python-3.7-main/lib/python3.7/http/client.py\u001b[0m in \u001b[0;36mgetresponse\u001b[0;34m(self)\u001b[0m\n\u001b[1;32m   1368\u001b[0m             \u001b[0;32mtry\u001b[0m\u001b[0;34m:\u001b[0m\u001b[0;34m\u001b[0m\u001b[0;34m\u001b[0m\u001b[0m\n\u001b[0;32m-> 1369\u001b[0;31m                 \u001b[0mresponse\u001b[0m\u001b[0;34m.\u001b[0m\u001b[0mbegin\u001b[0m\u001b[0;34m(\u001b[0m\u001b[0;34m)\u001b[0m\u001b[0;34m\u001b[0m\u001b[0;34m\u001b[0m\u001b[0m\n\u001b[0m\u001b[1;32m   1370\u001b[0m             \u001b[0;32mexcept\u001b[0m \u001b[0mConnectionError\u001b[0m\u001b[0;34m:\u001b[0m\u001b[0;34m\u001b[0m\u001b[0;34m\u001b[0m\u001b[0m\n",
                        "\u001b[0;32m/opt/conda/envs/Python-3.7-main/lib/python3.7/http/client.py\u001b[0m in \u001b[0;36mbegin\u001b[0;34m(self)\u001b[0m\n\u001b[1;32m    309\u001b[0m         \u001b[0;32mwhile\u001b[0m \u001b[0;32mTrue\u001b[0m\u001b[0;34m:\u001b[0m\u001b[0;34m\u001b[0m\u001b[0;34m\u001b[0m\u001b[0m\n\u001b[0;32m--> 310\u001b[0;31m             \u001b[0mversion\u001b[0m\u001b[0;34m,\u001b[0m \u001b[0mstatus\u001b[0m\u001b[0;34m,\u001b[0m \u001b[0mreason\u001b[0m \u001b[0;34m=\u001b[0m \u001b[0mself\u001b[0m\u001b[0;34m.\u001b[0m\u001b[0m_read_status\u001b[0m\u001b[0;34m(\u001b[0m\u001b[0;34m)\u001b[0m\u001b[0;34m\u001b[0m\u001b[0;34m\u001b[0m\u001b[0m\n\u001b[0m\u001b[1;32m    311\u001b[0m             \u001b[0;32mif\u001b[0m \u001b[0mstatus\u001b[0m \u001b[0;34m!=\u001b[0m \u001b[0mCONTINUE\u001b[0m\u001b[0;34m:\u001b[0m\u001b[0;34m\u001b[0m\u001b[0;34m\u001b[0m\u001b[0m\n",
                        "\u001b[0;32m/opt/conda/envs/Python-3.7-main/lib/python3.7/http/client.py\u001b[0m in \u001b[0;36m_read_status\u001b[0;34m(self)\u001b[0m\n\u001b[1;32m    270\u001b[0m     \u001b[0;32mdef\u001b[0m \u001b[0m_read_status\u001b[0m\u001b[0;34m(\u001b[0m\u001b[0mself\u001b[0m\u001b[0;34m)\u001b[0m\u001b[0;34m:\u001b[0m\u001b[0;34m\u001b[0m\u001b[0;34m\u001b[0m\u001b[0m\n\u001b[0;32m--> 271\u001b[0;31m         \u001b[0mline\u001b[0m \u001b[0;34m=\u001b[0m \u001b[0mstr\u001b[0m\u001b[0;34m(\u001b[0m\u001b[0mself\u001b[0m\u001b[0;34m.\u001b[0m\u001b[0mfp\u001b[0m\u001b[0;34m.\u001b[0m\u001b[0mreadline\u001b[0m\u001b[0;34m(\u001b[0m\u001b[0m_MAXLINE\u001b[0m \u001b[0;34m+\u001b[0m \u001b[0;36m1\u001b[0m\u001b[0;34m)\u001b[0m\u001b[0;34m,\u001b[0m \u001b[0;34m\"iso-8859-1\"\u001b[0m\u001b[0;34m)\u001b[0m\u001b[0;34m\u001b[0m\u001b[0;34m\u001b[0m\u001b[0m\n\u001b[0m\u001b[1;32m    272\u001b[0m         \u001b[0;32mif\u001b[0m \u001b[0mlen\u001b[0m\u001b[0;34m(\u001b[0m\u001b[0mline\u001b[0m\u001b[0;34m)\u001b[0m \u001b[0;34m>\u001b[0m \u001b[0m_MAXLINE\u001b[0m\u001b[0;34m:\u001b[0m\u001b[0;34m\u001b[0m\u001b[0;34m\u001b[0m\u001b[0m\n",
                        "\u001b[0;32m/opt/conda/envs/Python-3.7-main/lib/python3.7/socket.py\u001b[0m in \u001b[0;36mreadinto\u001b[0;34m(self, b)\u001b[0m\n\u001b[1;32m    588\u001b[0m             \u001b[0;32mtry\u001b[0m\u001b[0;34m:\u001b[0m\u001b[0;34m\u001b[0m\u001b[0;34m\u001b[0m\u001b[0m\n\u001b[0;32m--> 589\u001b[0;31m                 \u001b[0;32mreturn\u001b[0m \u001b[0mself\u001b[0m\u001b[0;34m.\u001b[0m\u001b[0m_sock\u001b[0m\u001b[0;34m.\u001b[0m\u001b[0mrecv_into\u001b[0m\u001b[0;34m(\u001b[0m\u001b[0mb\u001b[0m\u001b[0;34m)\u001b[0m\u001b[0;34m\u001b[0m\u001b[0;34m\u001b[0m\u001b[0m\n\u001b[0m\u001b[1;32m    590\u001b[0m             \u001b[0;32mexcept\u001b[0m \u001b[0mtimeout\u001b[0m\u001b[0;34m:\u001b[0m\u001b[0;34m\u001b[0m\u001b[0;34m\u001b[0m\u001b[0m\n",
                        "\u001b[0;32m/opt/conda/envs/Python-3.7-main/lib/python3.7/ssl.py\u001b[0m in \u001b[0;36mrecv_into\u001b[0;34m(self, buffer, nbytes, flags)\u001b[0m\n\u001b[1;32m   1070\u001b[0m                   self.__class__)\n\u001b[0;32m-> 1071\u001b[0;31m             \u001b[0;32mreturn\u001b[0m \u001b[0mself\u001b[0m\u001b[0;34m.\u001b[0m\u001b[0mread\u001b[0m\u001b[0;34m(\u001b[0m\u001b[0mnbytes\u001b[0m\u001b[0;34m,\u001b[0m \u001b[0mbuffer\u001b[0m\u001b[0;34m)\u001b[0m\u001b[0;34m\u001b[0m\u001b[0;34m\u001b[0m\u001b[0m\n\u001b[0m\u001b[1;32m   1072\u001b[0m         \u001b[0;32melse\u001b[0m\u001b[0;34m:\u001b[0m\u001b[0;34m\u001b[0m\u001b[0;34m\u001b[0m\u001b[0m\n",
                        "\u001b[0;32m/opt/conda/envs/Python-3.7-main/lib/python3.7/ssl.py\u001b[0m in \u001b[0;36mread\u001b[0;34m(self, len, buffer)\u001b[0m\n\u001b[1;32m    928\u001b[0m             \u001b[0;32mif\u001b[0m \u001b[0mbuffer\u001b[0m \u001b[0;32mis\u001b[0m \u001b[0;32mnot\u001b[0m \u001b[0;32mNone\u001b[0m\u001b[0;34m:\u001b[0m\u001b[0;34m\u001b[0m\u001b[0;34m\u001b[0m\u001b[0m\n\u001b[0;32m--> 929\u001b[0;31m                 \u001b[0;32mreturn\u001b[0m \u001b[0mself\u001b[0m\u001b[0;34m.\u001b[0m\u001b[0m_sslobj\u001b[0m\u001b[0;34m.\u001b[0m\u001b[0mread\u001b[0m\u001b[0;34m(\u001b[0m\u001b[0mlen\u001b[0m\u001b[0;34m,\u001b[0m \u001b[0mbuffer\u001b[0m\u001b[0;34m)\u001b[0m\u001b[0;34m\u001b[0m\u001b[0;34m\u001b[0m\u001b[0m\n\u001b[0m\u001b[1;32m    930\u001b[0m             \u001b[0;32melse\u001b[0m\u001b[0;34m:\u001b[0m\u001b[0;34m\u001b[0m\u001b[0;34m\u001b[0m\u001b[0m\n",
                        "\u001b[0;31mtimeout\u001b[0m: The read operation timed out",
                        "\nDuring handling of the above exception, another exception occurred:\n",
                        "\u001b[0;31mReadTimeoutError\u001b[0m                          Traceback (most recent call last)",
                        "\u001b[0;32m/opt/conda/envs/Python-3.7-main/lib/python3.7/site-packages/urllib3/connectionpool.py\u001b[0m in \u001b[0;36murlopen\u001b[0;34m(self, method, url, body, headers, retries, redirect, assert_same_host, timeout, pool_timeout, release_conn, chunked, body_pos, **response_kw)\u001b[0m\n\u001b[1;32m    676\u001b[0m                 \u001b[0mheaders\u001b[0m\u001b[0;34m=\u001b[0m\u001b[0mheaders\u001b[0m\u001b[0;34m,\u001b[0m\u001b[0;34m\u001b[0m\u001b[0;34m\u001b[0m\u001b[0m\n\u001b[0;32m--> 677\u001b[0;31m                 \u001b[0mchunked\u001b[0m\u001b[0;34m=\u001b[0m\u001b[0mchunked\u001b[0m\u001b[0;34m,\u001b[0m\u001b[0;34m\u001b[0m\u001b[0;34m\u001b[0m\u001b[0m\n\u001b[0m\u001b[1;32m    678\u001b[0m             )\n",
                        "\u001b[0;32m/opt/conda/envs/Python-3.7-main/lib/python3.7/site-packages/urllib3/connectionpool.py\u001b[0m in \u001b[0;36m_make_request\u001b[0;34m(self, conn, method, url, timeout, chunked, **httplib_request_kw)\u001b[0m\n\u001b[1;32m    427\u001b[0m         \u001b[0;32mexcept\u001b[0m \u001b[0;34m(\u001b[0m\u001b[0mSocketTimeout\u001b[0m\u001b[0;34m,\u001b[0m \u001b[0mBaseSSLError\u001b[0m\u001b[0;34m,\u001b[0m \u001b[0mSocketError\u001b[0m\u001b[0;34m)\u001b[0m \u001b[0;32mas\u001b[0m \u001b[0me\u001b[0m\u001b[0;34m:\u001b[0m\u001b[0;34m\u001b[0m\u001b[0;34m\u001b[0m\u001b[0m\n\u001b[0;32m--> 428\u001b[0;31m             \u001b[0mself\u001b[0m\u001b[0;34m.\u001b[0m\u001b[0m_raise_timeout\u001b[0m\u001b[0;34m(\u001b[0m\u001b[0merr\u001b[0m\u001b[0;34m=\u001b[0m\u001b[0me\u001b[0m\u001b[0;34m,\u001b[0m \u001b[0murl\u001b[0m\u001b[0;34m=\u001b[0m\u001b[0murl\u001b[0m\u001b[0;34m,\u001b[0m \u001b[0mtimeout_value\u001b[0m\u001b[0;34m=\u001b[0m\u001b[0mread_timeout\u001b[0m\u001b[0;34m)\u001b[0m\u001b[0;34m\u001b[0m\u001b[0;34m\u001b[0m\u001b[0m\n\u001b[0m\u001b[1;32m    429\u001b[0m             \u001b[0;32mraise\u001b[0m\u001b[0;34m\u001b[0m\u001b[0;34m\u001b[0m\u001b[0m\n",
                        "\u001b[0;32m/opt/conda/envs/Python-3.7-main/lib/python3.7/site-packages/urllib3/connectionpool.py\u001b[0m in \u001b[0;36m_raise_timeout\u001b[0;34m(self, err, url, timeout_value)\u001b[0m\n\u001b[1;32m    335\u001b[0m             raise ReadTimeoutError(\n\u001b[0;32m--> 336\u001b[0;31m                 \u001b[0mself\u001b[0m\u001b[0;34m,\u001b[0m \u001b[0murl\u001b[0m\u001b[0;34m,\u001b[0m \u001b[0;34m\"Read timed out. (read timeout=%s)\"\u001b[0m \u001b[0;34m%\u001b[0m \u001b[0mtimeout_value\u001b[0m\u001b[0;34m\u001b[0m\u001b[0;34m\u001b[0m\u001b[0m\n\u001b[0m\u001b[1;32m    337\u001b[0m             )\n",
                        "\u001b[0;31mReadTimeoutError\u001b[0m: HTTPSConnectionPool(host='nominatim.openstreetmap.org', port=443): Read timed out. (read timeout=1)",
                        "\nDuring handling of the above exception, another exception occurred:\n",
                        "\u001b[0;31mMaxRetryError\u001b[0m                             Traceback (most recent call last)",
                        "\u001b[0;32m/opt/conda/envs/Python-3.7-main/lib/python3.7/site-packages/requests/adapters.py\u001b[0m in \u001b[0;36msend\u001b[0;34m(self, request, stream, timeout, verify, cert, proxies)\u001b[0m\n\u001b[1;32m    448\u001b[0m                     \u001b[0mretries\u001b[0m\u001b[0;34m=\u001b[0m\u001b[0mself\u001b[0m\u001b[0;34m.\u001b[0m\u001b[0mmax_retries\u001b[0m\u001b[0;34m,\u001b[0m\u001b[0;34m\u001b[0m\u001b[0;34m\u001b[0m\u001b[0m\n\u001b[0;32m--> 449\u001b[0;31m                     \u001b[0mtimeout\u001b[0m\u001b[0;34m=\u001b[0m\u001b[0mtimeout\u001b[0m\u001b[0;34m\u001b[0m\u001b[0;34m\u001b[0m\u001b[0m\n\u001b[0m\u001b[1;32m    450\u001b[0m                 )\n",
                        "\u001b[0;32m/opt/conda/envs/Python-3.7-main/lib/python3.7/site-packages/urllib3/connectionpool.py\u001b[0m in \u001b[0;36murlopen\u001b[0;34m(self, method, url, body, headers, retries, redirect, assert_same_host, timeout, pool_timeout, release_conn, chunked, body_pos, **response_kw)\u001b[0m\n\u001b[1;32m    764\u001b[0m                 \u001b[0mbody_pos\u001b[0m\u001b[0;34m=\u001b[0m\u001b[0mbody_pos\u001b[0m\u001b[0;34m,\u001b[0m\u001b[0;34m\u001b[0m\u001b[0;34m\u001b[0m\u001b[0m\n\u001b[0;32m--> 765\u001b[0;31m                 \u001b[0;34m**\u001b[0m\u001b[0mresponse_kw\u001b[0m\u001b[0;34m\u001b[0m\u001b[0;34m\u001b[0m\u001b[0m\n\u001b[0m\u001b[1;32m    766\u001b[0m             )\n",
                        "\u001b[0;32m/opt/conda/envs/Python-3.7-main/lib/python3.7/site-packages/urllib3/connectionpool.py\u001b[0m in \u001b[0;36murlopen\u001b[0;34m(self, method, url, body, headers, retries, redirect, assert_same_host, timeout, pool_timeout, release_conn, chunked, body_pos, **response_kw)\u001b[0m\n\u001b[1;32m    764\u001b[0m                 \u001b[0mbody_pos\u001b[0m\u001b[0;34m=\u001b[0m\u001b[0mbody_pos\u001b[0m\u001b[0;34m,\u001b[0m\u001b[0;34m\u001b[0m\u001b[0;34m\u001b[0m\u001b[0m\n\u001b[0;32m--> 765\u001b[0;31m                 \u001b[0;34m**\u001b[0m\u001b[0mresponse_kw\u001b[0m\u001b[0;34m\u001b[0m\u001b[0;34m\u001b[0m\u001b[0m\n\u001b[0m\u001b[1;32m    766\u001b[0m             )\n",
                        "\u001b[0;32m/opt/conda/envs/Python-3.7-main/lib/python3.7/site-packages/urllib3/connectionpool.py\u001b[0m in \u001b[0;36murlopen\u001b[0;34m(self, method, url, body, headers, retries, redirect, assert_same_host, timeout, pool_timeout, release_conn, chunked, body_pos, **response_kw)\u001b[0m\n\u001b[1;32m    724\u001b[0m             retries = retries.increment(\n\u001b[0;32m--> 725\u001b[0;31m                 \u001b[0mmethod\u001b[0m\u001b[0;34m,\u001b[0m \u001b[0murl\u001b[0m\u001b[0;34m,\u001b[0m \u001b[0merror\u001b[0m\u001b[0;34m=\u001b[0m\u001b[0me\u001b[0m\u001b[0;34m,\u001b[0m \u001b[0m_pool\u001b[0m\u001b[0;34m=\u001b[0m\u001b[0mself\u001b[0m\u001b[0;34m,\u001b[0m \u001b[0m_stacktrace\u001b[0m\u001b[0;34m=\u001b[0m\u001b[0msys\u001b[0m\u001b[0;34m.\u001b[0m\u001b[0mexc_info\u001b[0m\u001b[0;34m(\u001b[0m\u001b[0;34m)\u001b[0m\u001b[0;34m[\u001b[0m\u001b[0;36m2\u001b[0m\u001b[0;34m]\u001b[0m\u001b[0;34m\u001b[0m\u001b[0;34m\u001b[0m\u001b[0m\n\u001b[0m\u001b[1;32m    726\u001b[0m             )\n",
                        "\u001b[0;32m/opt/conda/envs/Python-3.7-main/lib/python3.7/site-packages/urllib3/util/retry.py\u001b[0m in \u001b[0;36mincrement\u001b[0;34m(self, method, url, response, error, _pool, _stacktrace)\u001b[0m\n\u001b[1;32m    438\u001b[0m         \u001b[0;32mif\u001b[0m \u001b[0mnew_retry\u001b[0m\u001b[0;34m.\u001b[0m\u001b[0mis_exhausted\u001b[0m\u001b[0;34m(\u001b[0m\u001b[0;34m)\u001b[0m\u001b[0;34m:\u001b[0m\u001b[0;34m\u001b[0m\u001b[0;34m\u001b[0m\u001b[0m\n\u001b[0;32m--> 439\u001b[0;31m             \u001b[0;32mraise\u001b[0m \u001b[0mMaxRetryError\u001b[0m\u001b[0;34m(\u001b[0m\u001b[0m_pool\u001b[0m\u001b[0;34m,\u001b[0m \u001b[0murl\u001b[0m\u001b[0;34m,\u001b[0m \u001b[0merror\u001b[0m \u001b[0;32mor\u001b[0m \u001b[0mResponseError\u001b[0m\u001b[0;34m(\u001b[0m\u001b[0mcause\u001b[0m\u001b[0;34m)\u001b[0m\u001b[0;34m)\u001b[0m\u001b[0;34m\u001b[0m\u001b[0;34m\u001b[0m\u001b[0m\n\u001b[0m\u001b[1;32m    440\u001b[0m \u001b[0;34m\u001b[0m\u001b[0m\n",
                        "\u001b[0;31mMaxRetryError\u001b[0m: HTTPSConnectionPool(host='nominatim.openstreetmap.org', port=443): Max retries exceeded with url: /search?q=San+Fransisco%2C+CA&format=json&limit=1 (Caused by ReadTimeoutError(\"HTTPSConnectionPool(host='nominatim.openstreetmap.org', port=443): Read timed out. (read timeout=1)\"))",
                        "\nDuring handling of the above exception, another exception occurred:\n",
                        "\u001b[0;31mConnectionError\u001b[0m                           Traceback (most recent call last)",
                        "\u001b[0;32m/opt/conda/envs/Python-3.7-main/lib/python3.7/site-packages/geopy/adapters.py\u001b[0m in \u001b[0;36m_request\u001b[0;34m(self, url, timeout, headers)\u001b[0m\n\u001b[1;32m    382\u001b[0m         \u001b[0;32mtry\u001b[0m\u001b[0;34m:\u001b[0m\u001b[0;34m\u001b[0m\u001b[0;34m\u001b[0m\u001b[0m\n\u001b[0;32m--> 383\u001b[0;31m             \u001b[0mresp\u001b[0m \u001b[0;34m=\u001b[0m \u001b[0mself\u001b[0m\u001b[0;34m.\u001b[0m\u001b[0msession\u001b[0m\u001b[0;34m.\u001b[0m\u001b[0mget\u001b[0m\u001b[0;34m(\u001b[0m\u001b[0murl\u001b[0m\u001b[0;34m,\u001b[0m \u001b[0mtimeout\u001b[0m\u001b[0;34m=\u001b[0m\u001b[0mtimeout\u001b[0m\u001b[0;34m,\u001b[0m \u001b[0mheaders\u001b[0m\u001b[0;34m=\u001b[0m\u001b[0mheaders\u001b[0m\u001b[0;34m)\u001b[0m\u001b[0;34m\u001b[0m\u001b[0;34m\u001b[0m\u001b[0m\n\u001b[0m\u001b[1;32m    384\u001b[0m         \u001b[0;32mexcept\u001b[0m \u001b[0mException\u001b[0m \u001b[0;32mas\u001b[0m \u001b[0merror\u001b[0m\u001b[0;34m:\u001b[0m\u001b[0;34m\u001b[0m\u001b[0;34m\u001b[0m\u001b[0m\n",
                        "\u001b[0;32m/opt/conda/envs/Python-3.7-main/lib/python3.7/site-packages/requests/sessions.py\u001b[0m in \u001b[0;36mget\u001b[0;34m(self, url, **kwargs)\u001b[0m\n\u001b[1;32m    542\u001b[0m         \u001b[0mkwargs\u001b[0m\u001b[0;34m.\u001b[0m\u001b[0msetdefault\u001b[0m\u001b[0;34m(\u001b[0m\u001b[0;34m'allow_redirects'\u001b[0m\u001b[0;34m,\u001b[0m \u001b[0;32mTrue\u001b[0m\u001b[0;34m)\u001b[0m\u001b[0;34m\u001b[0m\u001b[0;34m\u001b[0m\u001b[0m\n\u001b[0;32m--> 543\u001b[0;31m         \u001b[0;32mreturn\u001b[0m \u001b[0mself\u001b[0m\u001b[0;34m.\u001b[0m\u001b[0mrequest\u001b[0m\u001b[0;34m(\u001b[0m\u001b[0;34m'GET'\u001b[0m\u001b[0;34m,\u001b[0m \u001b[0murl\u001b[0m\u001b[0;34m,\u001b[0m \u001b[0;34m**\u001b[0m\u001b[0mkwargs\u001b[0m\u001b[0;34m)\u001b[0m\u001b[0;34m\u001b[0m\u001b[0;34m\u001b[0m\u001b[0m\n\u001b[0m\u001b[1;32m    544\u001b[0m \u001b[0;34m\u001b[0m\u001b[0m\n",
                        "\u001b[0;32m/opt/conda/envs/Python-3.7-main/lib/python3.7/site-packages/requests/sessions.py\u001b[0m in \u001b[0;36mrequest\u001b[0;34m(self, method, url, params, data, headers, cookies, files, auth, timeout, allow_redirects, proxies, hooks, stream, verify, cert, json)\u001b[0m\n\u001b[1;32m    529\u001b[0m         \u001b[0msend_kwargs\u001b[0m\u001b[0;34m.\u001b[0m\u001b[0mupdate\u001b[0m\u001b[0;34m(\u001b[0m\u001b[0msettings\u001b[0m\u001b[0;34m)\u001b[0m\u001b[0;34m\u001b[0m\u001b[0;34m\u001b[0m\u001b[0m\n\u001b[0;32m--> 530\u001b[0;31m         \u001b[0mresp\u001b[0m \u001b[0;34m=\u001b[0m \u001b[0mself\u001b[0m\u001b[0;34m.\u001b[0m\u001b[0msend\u001b[0m\u001b[0;34m(\u001b[0m\u001b[0mprep\u001b[0m\u001b[0;34m,\u001b[0m \u001b[0;34m**\u001b[0m\u001b[0msend_kwargs\u001b[0m\u001b[0;34m)\u001b[0m\u001b[0;34m\u001b[0m\u001b[0;34m\u001b[0m\u001b[0m\n\u001b[0m\u001b[1;32m    531\u001b[0m \u001b[0;34m\u001b[0m\u001b[0m\n",
                        "\u001b[0;32m/opt/conda/envs/Python-3.7-main/lib/python3.7/site-packages/requests/sessions.py\u001b[0m in \u001b[0;36msend\u001b[0;34m(self, request, **kwargs)\u001b[0m\n\u001b[1;32m    642\u001b[0m         \u001b[0;31m# Send the request\u001b[0m\u001b[0;34m\u001b[0m\u001b[0;34m\u001b[0m\u001b[0;34m\u001b[0m\u001b[0m\n\u001b[0;32m--> 643\u001b[0;31m         \u001b[0mr\u001b[0m \u001b[0;34m=\u001b[0m \u001b[0madapter\u001b[0m\u001b[0;34m.\u001b[0m\u001b[0msend\u001b[0m\u001b[0;34m(\u001b[0m\u001b[0mrequest\u001b[0m\u001b[0;34m,\u001b[0m \u001b[0;34m**\u001b[0m\u001b[0mkwargs\u001b[0m\u001b[0;34m)\u001b[0m\u001b[0;34m\u001b[0m\u001b[0;34m\u001b[0m\u001b[0m\n\u001b[0m\u001b[1;32m    644\u001b[0m \u001b[0;34m\u001b[0m\u001b[0m\n",
                        "\u001b[0;32m/opt/conda/envs/Python-3.7-main/lib/python3.7/site-packages/requests/adapters.py\u001b[0m in \u001b[0;36msend\u001b[0;34m(self, request, stream, timeout, verify, cert, proxies)\u001b[0m\n\u001b[1;32m    515\u001b[0m \u001b[0;34m\u001b[0m\u001b[0m\n\u001b[0;32m--> 516\u001b[0;31m             \u001b[0;32mraise\u001b[0m \u001b[0mConnectionError\u001b[0m\u001b[0;34m(\u001b[0m\u001b[0me\u001b[0m\u001b[0;34m,\u001b[0m \u001b[0mrequest\u001b[0m\u001b[0;34m=\u001b[0m\u001b[0mrequest\u001b[0m\u001b[0;34m)\u001b[0m\u001b[0;34m\u001b[0m\u001b[0;34m\u001b[0m\u001b[0m\n\u001b[0m\u001b[1;32m    517\u001b[0m \u001b[0;34m\u001b[0m\u001b[0m\n",
                        "\u001b[0;31mConnectionError\u001b[0m: HTTPSConnectionPool(host='nominatim.openstreetmap.org', port=443): Max retries exceeded with url: /search?q=San+Fransisco%2C+CA&format=json&limit=1 (Caused by ReadTimeoutError(\"HTTPSConnectionPool(host='nominatim.openstreetmap.org', port=443): Read timed out. (read timeout=1)\"))",
                        "\nDuring handling of the above exception, another exception occurred:\n",
                        "\u001b[0;31mGeocoderUnavailable\u001b[0m                       Traceback (most recent call last)",
                        "\u001b[0;32m<ipython-input-19-0c1deae27c0f>\u001b[0m in \u001b[0;36m<module>\u001b[0;34m\u001b[0m\n\u001b[1;32m      2\u001b[0m \u001b[0;34m\u001b[0m\u001b[0m\n\u001b[1;32m      3\u001b[0m \u001b[0mgeolocator\u001b[0m \u001b[0;34m=\u001b[0m \u001b[0mNominatim\u001b[0m\u001b[0;34m(\u001b[0m\u001b[0muser_agent\u001b[0m\u001b[0;34m=\u001b[0m\u001b[0;34m\"sf_explorer\"\u001b[0m\u001b[0;34m)\u001b[0m\u001b[0;34m\u001b[0m\u001b[0;34m\u001b[0m\u001b[0m\n\u001b[0;32m----> 4\u001b[0;31m \u001b[0mlocation\u001b[0m \u001b[0;34m=\u001b[0m \u001b[0mgeolocator\u001b[0m\u001b[0;34m.\u001b[0m\u001b[0mgeocode\u001b[0m\u001b[0;34m(\u001b[0m\u001b[0maddress\u001b[0m\u001b[0;34m)\u001b[0m\u001b[0;34m\u001b[0m\u001b[0;34m\u001b[0m\u001b[0m\n\u001b[0m\u001b[1;32m      5\u001b[0m \u001b[0mlatitude\u001b[0m \u001b[0;34m=\u001b[0m \u001b[0mlocation\u001b[0m\u001b[0;34m.\u001b[0m\u001b[0mlatitude\u001b[0m\u001b[0;34m\u001b[0m\u001b[0;34m\u001b[0m\u001b[0m\n\u001b[1;32m      6\u001b[0m \u001b[0mlongitude\u001b[0m \u001b[0;34m=\u001b[0m \u001b[0mlocation\u001b[0m\u001b[0;34m.\u001b[0m\u001b[0mlongitude\u001b[0m\u001b[0;34m\u001b[0m\u001b[0;34m\u001b[0m\u001b[0m\n",
                        "\u001b[0;32m/opt/conda/envs/Python-3.7-main/lib/python3.7/site-packages/geopy/geocoders/nominatim.py\u001b[0m in \u001b[0;36mgeocode\u001b[0;34m(self, query, exactly_one, timeout, limit, addressdetails, language, geometry, extratags, country_codes, viewbox, bounded, featuretype, namedetails)\u001b[0m\n\u001b[1;32m    292\u001b[0m         \u001b[0mlogger\u001b[0m\u001b[0;34m.\u001b[0m\u001b[0mdebug\u001b[0m\u001b[0;34m(\u001b[0m\u001b[0;34m\"%s.geocode: %s\"\u001b[0m\u001b[0;34m,\u001b[0m \u001b[0mself\u001b[0m\u001b[0;34m.\u001b[0m\u001b[0m__class__\u001b[0m\u001b[0;34m.\u001b[0m\u001b[0m__name__\u001b[0m\u001b[0;34m,\u001b[0m \u001b[0murl\u001b[0m\u001b[0;34m)\u001b[0m\u001b[0;34m\u001b[0m\u001b[0;34m\u001b[0m\u001b[0m\n\u001b[1;32m    293\u001b[0m         \u001b[0mcallback\u001b[0m \u001b[0;34m=\u001b[0m \u001b[0mpartial\u001b[0m\u001b[0;34m(\u001b[0m\u001b[0mself\u001b[0m\u001b[0;34m.\u001b[0m\u001b[0m_parse_json\u001b[0m\u001b[0;34m,\u001b[0m \u001b[0mexactly_one\u001b[0m\u001b[0;34m=\u001b[0m\u001b[0mexactly_one\u001b[0m\u001b[0;34m)\u001b[0m\u001b[0;34m\u001b[0m\u001b[0;34m\u001b[0m\u001b[0m\n\u001b[0;32m--> 294\u001b[0;31m         \u001b[0;32mreturn\u001b[0m \u001b[0mself\u001b[0m\u001b[0;34m.\u001b[0m\u001b[0m_call_geocoder\u001b[0m\u001b[0;34m(\u001b[0m\u001b[0murl\u001b[0m\u001b[0;34m,\u001b[0m \u001b[0mcallback\u001b[0m\u001b[0;34m,\u001b[0m \u001b[0mtimeout\u001b[0m\u001b[0;34m=\u001b[0m\u001b[0mtimeout\u001b[0m\u001b[0;34m)\u001b[0m\u001b[0;34m\u001b[0m\u001b[0;34m\u001b[0m\u001b[0m\n\u001b[0m\u001b[1;32m    295\u001b[0m \u001b[0;34m\u001b[0m\u001b[0m\n\u001b[1;32m    296\u001b[0m     def reverse(\n",
                        "\u001b[0;32m/opt/conda/envs/Python-3.7-main/lib/python3.7/site-packages/geopy/geocoders/base.py\u001b[0m in \u001b[0;36m_call_geocoder\u001b[0;34m(self, url, callback, timeout, is_json, headers)\u001b[0m\n\u001b[1;32m    358\u001b[0m         \u001b[0;32mtry\u001b[0m\u001b[0;34m:\u001b[0m\u001b[0;34m\u001b[0m\u001b[0;34m\u001b[0m\u001b[0m\n\u001b[1;32m    359\u001b[0m             \u001b[0;32mif\u001b[0m \u001b[0mis_json\u001b[0m\u001b[0;34m:\u001b[0m\u001b[0;34m\u001b[0m\u001b[0;34m\u001b[0m\u001b[0m\n\u001b[0;32m--> 360\u001b[0;31m                 \u001b[0mresult\u001b[0m \u001b[0;34m=\u001b[0m \u001b[0mself\u001b[0m\u001b[0;34m.\u001b[0m\u001b[0madapter\u001b[0m\u001b[0;34m.\u001b[0m\u001b[0mget_json\u001b[0m\u001b[0;34m(\u001b[0m\u001b[0murl\u001b[0m\u001b[0;34m,\u001b[0m \u001b[0mtimeout\u001b[0m\u001b[0;34m=\u001b[0m\u001b[0mtimeout\u001b[0m\u001b[0;34m,\u001b[0m \u001b[0mheaders\u001b[0m\u001b[0;34m=\u001b[0m\u001b[0mreq_headers\u001b[0m\u001b[0;34m)\u001b[0m\u001b[0;34m\u001b[0m\u001b[0;34m\u001b[0m\u001b[0m\n\u001b[0m\u001b[1;32m    361\u001b[0m             \u001b[0;32melse\u001b[0m\u001b[0;34m:\u001b[0m\u001b[0;34m\u001b[0m\u001b[0;34m\u001b[0m\u001b[0m\n\u001b[1;32m    362\u001b[0m                 \u001b[0mresult\u001b[0m \u001b[0;34m=\u001b[0m \u001b[0mself\u001b[0m\u001b[0;34m.\u001b[0m\u001b[0madapter\u001b[0m\u001b[0;34m.\u001b[0m\u001b[0mget_text\u001b[0m\u001b[0;34m(\u001b[0m\u001b[0murl\u001b[0m\u001b[0;34m,\u001b[0m \u001b[0mtimeout\u001b[0m\u001b[0;34m=\u001b[0m\u001b[0mtimeout\u001b[0m\u001b[0;34m,\u001b[0m \u001b[0mheaders\u001b[0m\u001b[0;34m=\u001b[0m\u001b[0mreq_headers\u001b[0m\u001b[0;34m)\u001b[0m\u001b[0;34m\u001b[0m\u001b[0;34m\u001b[0m\u001b[0m\n",
                        "\u001b[0;32m/opt/conda/envs/Python-3.7-main/lib/python3.7/site-packages/geopy/adapters.py\u001b[0m in \u001b[0;36mget_json\u001b[0;34m(self, url, timeout, headers)\u001b[0m\n\u001b[1;32m    371\u001b[0m \u001b[0;34m\u001b[0m\u001b[0m\n\u001b[1;32m    372\u001b[0m     \u001b[0;32mdef\u001b[0m \u001b[0mget_json\u001b[0m\u001b[0;34m(\u001b[0m\u001b[0mself\u001b[0m\u001b[0;34m,\u001b[0m \u001b[0murl\u001b[0m\u001b[0;34m,\u001b[0m \u001b[0;34m*\u001b[0m\u001b[0;34m,\u001b[0m \u001b[0mtimeout\u001b[0m\u001b[0;34m,\u001b[0m \u001b[0mheaders\u001b[0m\u001b[0;34m)\u001b[0m\u001b[0;34m:\u001b[0m\u001b[0;34m\u001b[0m\u001b[0;34m\u001b[0m\u001b[0m\n\u001b[0;32m--> 373\u001b[0;31m         \u001b[0mresp\u001b[0m \u001b[0;34m=\u001b[0m \u001b[0mself\u001b[0m\u001b[0;34m.\u001b[0m\u001b[0m_request\u001b[0m\u001b[0;34m(\u001b[0m\u001b[0murl\u001b[0m\u001b[0;34m,\u001b[0m \u001b[0mtimeout\u001b[0m\u001b[0;34m=\u001b[0m\u001b[0mtimeout\u001b[0m\u001b[0;34m,\u001b[0m \u001b[0mheaders\u001b[0m\u001b[0;34m=\u001b[0m\u001b[0mheaders\u001b[0m\u001b[0;34m)\u001b[0m\u001b[0;34m\u001b[0m\u001b[0;34m\u001b[0m\u001b[0m\n\u001b[0m\u001b[1;32m    374\u001b[0m         \u001b[0;32mtry\u001b[0m\u001b[0;34m:\u001b[0m\u001b[0;34m\u001b[0m\u001b[0;34m\u001b[0m\u001b[0m\n\u001b[1;32m    375\u001b[0m             \u001b[0;32mreturn\u001b[0m \u001b[0mresp\u001b[0m\u001b[0;34m.\u001b[0m\u001b[0mjson\u001b[0m\u001b[0;34m(\u001b[0m\u001b[0;34m)\u001b[0m\u001b[0;34m\u001b[0m\u001b[0;34m\u001b[0m\u001b[0m\n",
                        "\u001b[0;32m/opt/conda/envs/Python-3.7-main/lib/python3.7/site-packages/geopy/adapters.py\u001b[0m in \u001b[0;36m_request\u001b[0;34m(self, url, timeout, headers)\u001b[0m\n\u001b[1;32m    393\u001b[0m                     \u001b[0;32mraise\u001b[0m \u001b[0mGeocoderServiceError\u001b[0m\u001b[0;34m(\u001b[0m\u001b[0mmessage\u001b[0m\u001b[0;34m)\u001b[0m\u001b[0;34m\u001b[0m\u001b[0;34m\u001b[0m\u001b[0m\n\u001b[1;32m    394\u001b[0m                 \u001b[0;32melse\u001b[0m\u001b[0;34m:\u001b[0m\u001b[0;34m\u001b[0m\u001b[0;34m\u001b[0m\u001b[0m\n\u001b[0;32m--> 395\u001b[0;31m                     \u001b[0;32mraise\u001b[0m \u001b[0mGeocoderUnavailable\u001b[0m\u001b[0;34m(\u001b[0m\u001b[0mmessage\u001b[0m\u001b[0;34m)\u001b[0m\u001b[0;34m\u001b[0m\u001b[0;34m\u001b[0m\u001b[0m\n\u001b[0m\u001b[1;32m    396\u001b[0m             \u001b[0;32melif\u001b[0m \u001b[0misinstance\u001b[0m\u001b[0;34m(\u001b[0m\u001b[0merror\u001b[0m\u001b[0;34m,\u001b[0m \u001b[0mrequests\u001b[0m\u001b[0;34m.\u001b[0m\u001b[0mTimeout\u001b[0m\u001b[0;34m)\u001b[0m\u001b[0;34m:\u001b[0m\u001b[0;34m\u001b[0m\u001b[0;34m\u001b[0m\u001b[0m\n\u001b[1;32m    397\u001b[0m                 \u001b[0;32mraise\u001b[0m \u001b[0mGeocoderTimedOut\u001b[0m\u001b[0;34m(\u001b[0m\u001b[0;34m\"Service timed out\"\u001b[0m\u001b[0;34m)\u001b[0m\u001b[0;34m\u001b[0m\u001b[0;34m\u001b[0m\u001b[0m\n",
                        "\u001b[0;31mGeocoderUnavailable\u001b[0m: HTTPSConnectionPool(host='nominatim.openstreetmap.org', port=443): Max retries exceeded with url: /search?q=San+Fransisco%2C+CA&format=json&limit=1 (Caused by ReadTimeoutError(\"HTTPSConnectionPool(host='nominatim.openstreetmap.org', port=443): Read timed out. (read timeout=1)\"))"
                    ]
                }
            ],
            "source": "address = 'San Fransisco, CA'\n\ngeolocator = Nominatim(user_agent=\"sf_explorer\")\nlocation = geolocator.geocode(address)\nlatitude = location.latitude\nlongitude = location.longitude\nprint('The geograpical coordinate of San Francisco are {}, {}.'.format(latitude, longitude))"
        },
        {
            "cell_type": "markdown",
            "metadata": {},
            "source": "Defining longitude and latitude for each different postal code using geocoder"
        },
        {
            "cell_type": "code",
            "execution_count": null,
            "metadata": {},
            "outputs": [],
            "source": "neighborhoods['Latitude'] = None\nneighborhoods['Longitude'] = None\nneighborhoods"
        },
        {
            "cell_type": "code",
            "execution_count": null,
            "metadata": {},
            "outputs": [],
            "source": "for i, postal_code in enumerate(neighborhoods['ZIP']):\n    lat_lng_coords = None\n    \n    while(lat_lng_coords is None):\n        g = geocoder.arcgis('{}, CA'.format(postal_code))\n        lat_lng_coords = g.latlng\n    \n    if lat_lng_coords:\n        latitude = lat_lng_coords[0]\n        longitude = lat_lng_coords[1]\n    \n    neighborhoods.loc[i, 'Latitude'] = latitude\n    neighborhoods.loc[i, 'Longitude'] = longitude\n\nneighborhoods"
        },
        {
            "cell_type": "markdown",
            "metadata": {},
            "source": "Printing Bay-Area Map"
        },
        {
            "cell_type": "code",
            "execution_count": null,
            "metadata": {
                "scrolled": true
            },
            "outputs": [],
            "source": "map_bay_area = folium.Map(location=[latitude, longitude], zoom_start=8)\n\nfor lat, lng, neighborhood in zip(neighborhoods['Latitude'], neighborhoods['Longitude'], neighborhoods['Neighborhood']):\n    label = '{}'.format(neighborhood)\n    label = folium.Popup(label, parse_html=True)\n    folium.CircleMarker(\n        [lat, lng],\n        radius=4,\n        popup=label,\n        color='red',\n        fill=True,\n        parse_html=False).add_to(map_bay_area)\n    \nmap_bay_area"
        },
        {
            "cell_type": "markdown",
            "metadata": {},
            "source": "We managed to get a great map of the Bay area and all the key cities and neighborhoods composing the region. We will now use Foursquare in order to move further with our analysis. "
        },
        {
            "cell_type": "markdown",
            "metadata": {},
            "source": "### Foursquare and importing credentials"
        },
        {
            "cell_type": "code",
            "execution_count": null,
            "metadata": {},
            "outputs": [],
            "source": "CLIENT_ID = 'K23DSBS00GSPJIUSF3VQGCCLLLHIOUSJ0244UPB41GFV4DZL' \nCLIENT_SECRET = 'OJ2S52HI3NQGDZL2IM2JZGX11OBYEG31CKBQZXWV2V3TN4RA'\nVERSION = '20201207'\nLIMIT = 100\n\nprint('Your credentails:')\nprint('CLIENT_ID: ' + CLIENT_ID)\nprint('CLIENT_SECRET:' + CLIENT_SECRET)\nprint('VERSION:' + VERSION)"
        },
        {
            "cell_type": "markdown",
            "metadata": {},
            "source": "Let's get all the different venue for each neighborhood by first defining the function that we will use ! "
        },
        {
            "cell_type": "code",
            "execution_count": null,
            "metadata": {},
            "outputs": [],
            "source": "# function that extracts the category of the venue\ndef get_category_type(row):\n    try:\n        categories_list = row['categories']\n    except:\n        categories_list = row['venue.categories']\n        \n    if len(categories_list) == 0:\n        return None\n    else:\n        return categories_list[0]['name']\n"
        },
        {
            "cell_type": "code",
            "execution_count": null,
            "metadata": {},
            "outputs": [],
            "source": "def getNearbyVenues(names, latitudes, longitudes, radius=500):\n    \n    venues_list=[]\n    for name, lat, lng in zip(names, latitudes, longitudes):\n        print(name)\n            \n        # create the API request URL\n        url = 'https://api.foursquare.com/v2/venues/explore?&client_id={}&client_secret={}&v={}&ll={},{}&radius={}&limit={}'.format(\n            CLIENT_ID, \n            CLIENT_SECRET, \n            VERSION, \n            lat, \n            lng, \n            radius, \n            LIMIT)\n            \n        # make the GET request\n        results = requests.get(url).json()[\"response\"]['groups'][0]['items']\n        \n        # return only relevant information for each nearby venue\n        venues_list.append([(\n            name, \n            lat, \n            lng, \n            v['venue']['name'], \n            v['venue']['location']['lat'], \n            v['venue']['location']['lng'],  \n            v['venue']['categories'][0]['name']) for v in results])\n\n    nearby_venues = pd.DataFrame([item for venue_list in venues_list for item in venue_list])\n    nearby_venues.columns = ['Neighborhood', \n                  'Neighborhood Latitude', \n                  'Neighborhood Longitude', \n                  'Venue', \n                  'Venue Latitude', \n                  'Venue Longitude', \n                  'Venue Category']\n    \n    return(nearby_venues)"
        },
        {
            "cell_type": "markdown",
            "metadata": {},
            "source": "For each of the neighborhood and borough, let's now run the above function to get all venues in the Bay Area\n"
        },
        {
            "cell_type": "code",
            "execution_count": null,
            "metadata": {},
            "outputs": [],
            "source": "bay_area_venues = getNearbyVenues(names=neighborhoods['Neighborhood'],\n                                   latitudes=neighborhoods['Latitude'],\n                                   longitudes=neighborhoods['Longitude']\n                                )"
        },
        {
            "cell_type": "code",
            "execution_count": null,
            "metadata": {},
            "outputs": [],
            "source": "print(bay_area_venues.shape)\nbay_area_venues.head()"
        },
        {
            "cell_type": "markdown",
            "metadata": {},
            "source": "Let's see how many venues appeared for each neighborhood"
        },
        {
            "cell_type": "code",
            "execution_count": null,
            "metadata": {},
            "outputs": [],
            "source": "bay_area_venues.groupby('Neighborhood').count()\n"
        },
        {
            "cell_type": "code",
            "execution_count": null,
            "metadata": {},
            "outputs": [],
            "source": "print('There are {} uniques categories.'.format(len(bay_area_venues['Venue Category'].unique())))"
        },
        {
            "cell_type": "markdown",
            "metadata": {},
            "source": "We can thus notice that there is a very large number of unique categories within the different venues related to the Bay Area (378)"
        },
        {
            "cell_type": "markdown",
            "metadata": {},
            "source": "We can now notice that we have a total of 94 neighborhood in our dataset, and each of these neighborhood have an associated number of venues. Let's now further analyze these venues by determining the kind of venue (Art, Restaurant, Monument, video, clubs, bar...) in each neighborhood : "
        },
        {
            "cell_type": "code",
            "execution_count": null,
            "metadata": {},
            "outputs": [],
            "source": "# one hot encoding\nbay_area_onehot = pd.get_dummies(bay_area_venues[['Venue Category']], prefix=\"\", prefix_sep=\"\")\n\n# add neighborhood column back to dataframe\nbay_area_onehot['Neighborhood'] = bay_area_venues['Neighborhood'] \n\n# move neighborhood column to the first column\nfixed_columns = [bay_area_onehot.columns[-1]] + list(bay_area_onehot.columns[:-1])\nbay_area_onehot = bay_area_onehot[fixed_columns]\n\nbay_area_onehot.head()"
        },
        {
            "cell_type": "code",
            "execution_count": null,
            "metadata": {},
            "outputs": [],
            "source": "bay_area_onehot.shape"
        },
        {
            "cell_type": "markdown",
            "metadata": {},
            "source": "The size of the new dataframe is coherent as we can see that we have 5,178 rows corresponding to the 5,178 venues and 378 columns corresponding to the 378 unique categories. "
        },
        {
            "cell_type": "code",
            "execution_count": null,
            "metadata": {},
            "outputs": [],
            "source": "bay_area_grouped = bay_area_onehot.groupby('Neighborhood').mean().reset_index()\nbay_area_grouped"
        },
        {
            "cell_type": "code",
            "execution_count": null,
            "metadata": {},
            "outputs": [],
            "source": "bay_area_grouped.shape"
        },
        {
            "cell_type": "markdown",
            "metadata": {},
            "source": "In this new dataframe, we can notice that we still have the previous 378 columns. But this time we only have 94 rows, this can be explained by the grouping of identical neighborhoods with eachother.\nLet's now take a look at the TOP 5 venues for each neighborhood"
        },
        {
            "cell_type": "code",
            "execution_count": null,
            "metadata": {},
            "outputs": [],
            "source": "num_top_venues = 5\n\nfor hood in bay_area_grouped['Neighborhood']:\n    print(\"----\"+hood+\"----\")\n    temp = bay_area_grouped[bay_area_grouped['Neighborhood'] == hood].T.reset_index()\n    temp.columns = ['venue','freq']\n    temp = temp.iloc[1:]\n    temp['freq'] = temp['freq'].astype(float)\n    temp = temp.round({'freq': 2})\n    print(temp.sort_values('freq', ascending=False).reset_index(drop=True).head(num_top_venues))\n    print('\\n')"
        },
        {
            "cell_type": "code",
            "execution_count": null,
            "metadata": {},
            "outputs": [],
            "source": "def return_most_common_venues(row, num_top_venues):\n    row_categories = row.iloc[1:]\n    row_categories_sorted = row_categories.sort_values(ascending=False)\n    \n    return row_categories_sorted.index.values[0:num_top_venues]"
        },
        {
            "cell_type": "code",
            "execution_count": null,
            "metadata": {},
            "outputs": [],
            "source": "num_top_venues = 10\n\nindicators = ['st', 'nd', 'rd']\n\n# create columns according to number of top venues\ncolumns = ['Neighborhood']\nfor ind in np.arange(num_top_venues):\n    try:\n        columns.append('{}{} Most Common Venue'.format(ind+1, indicators[ind]))\n    except:\n        columns.append('{}th Most Common Venue'.format(ind+1))\n\n# create a new dataframe\nneighborhoods_venues_sorted = pd.DataFrame(columns=columns)\nneighborhoods_venues_sorted['Neighborhood'] = bay_area_grouped['Neighborhood']\n\nfor ind in np.arange(bay_area_grouped.shape[0]):\n    neighborhoods_venues_sorted.iloc[ind, 1:] = return_most_common_venues(bay_area_grouped.iloc[ind, :], num_top_venues)\n\nneighborhoods_venues_sorted.head()"
        },
        {
            "cell_type": "code",
            "execution_count": null,
            "metadata": {},
            "outputs": [],
            "source": "# set number of clusters\nk = 25\n\nbay_area_grouped_clustering = bay_area_grouped.drop('Neighborhood', axis=1)\n\n# run k-means clustering\nkmeans = KMeans(n_clusters=k, random_state=67).fit(bay_area_grouped_clustering)\n\n# check cluster labels generated for each row in the dataframe\nkmeans.labels_[0:50] "
        },
        {
            "cell_type": "code",
            "execution_count": null,
            "metadata": {},
            "outputs": [],
            "source": "# add clustering labels\nneighborhoods_venues_sorted.insert(0, 'Cluster Labels', kmeans.labels_)\n\nbay_area_merged = neighborhoods\nbay_area_merged = bay_area_merged.join(neighborhoods_venues_sorted.set_index('Neighborhood'), on='Neighborhood')\nbay_area_merged.dropna(inplace=True)\n"
        },
        {
            "cell_type": "code",
            "execution_count": null,
            "metadata": {},
            "outputs": [],
            "source": "print(bay_area_merged.shape)\nbay_area_merged['Cluster Labels'] = bay_area_merged['Cluster Labels'].astype(int)\nbay_area_merged"
        },
        {
            "cell_type": "code",
            "execution_count": null,
            "metadata": {},
            "outputs": [],
            "source": "# create map\nmap_clusters = folium.Map(location=[latitude, longitude], zoom_start=11)\n\n# set color scheme for the clusters\nx = np.arange(k)\nys = [i + x + (i*x)**2 for i in range(k)]\ncolors_array = cm.rainbow(np.linspace(0, 1, len(ys)))\nrainbow = [colors.rgb2hex(i) for i in colors_array]\n\n# add markers to the map\nmarkers_colors = []\nfor lat, lon, poi, cluster in zip(bay_area_merged['Latitude'], bay_area_merged['Longitude'], bay_area_merged['Neighborhood'], bay_area_merged['Cluster Labels']):\n    label = folium.Popup(str(poi) + ' Cluster ' + str(cluster), parse_html=True)\n    folium.CircleMarker(\n        [lat, lon],\n        radius=5,\n        popup=label,\n        color=rainbow[cluster-1],\n        fill=True,\n        fill_color=rainbow[cluster-1],\n        fill_opacity=0.7).add_to(map_clusters)\n       \nmap_clusters"
        },
        {
            "cell_type": "markdown",
            "metadata": {},
            "source": "Let's now have list of all different clusters : I only put the first 5 clusters, but we could easily focus on the other by changing the figure associated. "
        },
        {
            "cell_type": "code",
            "execution_count": null,
            "metadata": {},
            "outputs": [],
            "source": "bay_area_merged.loc[bay_area_merged['Cluster Labels'] == 0, bay_area_merged.columns[[1] + list(range(5, bay_area_merged.shape[1]))]]\n"
        },
        {
            "cell_type": "code",
            "execution_count": null,
            "metadata": {},
            "outputs": [],
            "source": "bay_area_merged.loc[bay_area_merged['Cluster Labels'] == 1, bay_area_merged.columns[[1] + list(range(5, bay_area_merged.shape[1]))]]\n"
        },
        {
            "cell_type": "code",
            "execution_count": null,
            "metadata": {},
            "outputs": [],
            "source": "bay_area_merged.loc[bay_area_merged['Cluster Labels'] == 2, bay_area_merged.columns[[1] + list(range(5, bay_area_merged.shape[1]))]]\n"
        },
        {
            "cell_type": "code",
            "execution_count": null,
            "metadata": {},
            "outputs": [],
            "source": "bay_area_merged.loc[bay_area_merged['Cluster Labels'] == 3, bay_area_merged.columns[[1] + list(range(5, bay_area_merged.shape[1]))]]\n"
        },
        {
            "cell_type": "code",
            "execution_count": null,
            "metadata": {},
            "outputs": [],
            "source": "bay_area_merged.loc[bay_area_merged['Cluster Labels'] == 4, bay_area_merged.columns[[1] + list(range(5, bay_area_merged.shape[1]))]]\n"
        },
        {
            "cell_type": "code",
            "execution_count": null,
            "metadata": {},
            "outputs": [],
            "source": ""
        }
    ],
    "metadata": {
        "kernelspec": {
            "display_name": "Python 3.7",
            "language": "python",
            "name": "python3"
        }
    },
    "nbformat": 4,
    "nbformat_minor": 1
}